{
 "cells": [
  {
   "cell_type": "markdown",
   "metadata": {},
   "source": [
    "**This notebook is an exercise in the [Pandas](https://www.kaggle.com/learn/pandas) course.  You can reference the tutorial at [this link](https://www.kaggle.com/residentmario/data-types-and-missing-values).**\n",
    "\n",
    "---\n"
   ]
  },
  {
   "cell_type": "markdown",
   "metadata": {},
   "source": [
    "# Introduction\n",
    "\n",
    "Run the following cell to load your data and some utility functions."
   ]
  },
  {
   "cell_type": "code",
   "execution_count": 1,
   "metadata": {
    "execution": {
     "iopub.execute_input": "2025-10-14T01:16:31.597604Z",
     "iopub.status.busy": "2025-10-14T01:16:31.596721Z",
     "iopub.status.idle": "2025-10-14T01:16:32.787279Z",
     "shell.execute_reply": "2025-10-14T01:16:32.786248Z",
     "shell.execute_reply.started": "2025-10-14T01:16:31.597575Z"
    },
    "trusted": true
   },
   "outputs": [
    {
     "name": "stdout",
     "output_type": "stream",
     "text": [
      "Setup complete.\n"
     ]
    }
   ],
   "source": [
    "import pandas as pd\n",
    "\n",
    "reviews = pd.read_csv(\"../input/wine-reviews/winemag-data-130k-v2.csv\", index_col=0)\n",
    "\n",
    "# from learntools.core import binder; binder.bind(globals())\n",
    "# from learntools.pandas.data_types_and_missing_data import *\n",
    "print(\"Setup complete.\")"
   ]
  },
  {
   "cell_type": "markdown",
   "metadata": {},
   "source": [
    "# Exercises"
   ]
  },
  {
   "cell_type": "markdown",
   "metadata": {},
   "source": [
    "## 1. \n",
    "What is the data type of the `points` column in the dataset?"
   ]
  },
  {
   "cell_type": "code",
   "execution_count": 2,
   "metadata": {
    "execution": {
     "iopub.execute_input": "2025-10-14T01:16:32.789246Z",
     "iopub.status.busy": "2025-10-14T01:16:32.788931Z",
     "iopub.status.idle": "2025-10-14T01:16:32.797961Z",
     "shell.execute_reply": "2025-10-14T01:16:32.797125Z",
     "shell.execute_reply.started": "2025-10-14T01:16:32.789213Z"
    },
    "trusted": true
   },
   "outputs": [
    {
     "data": {
      "text/plain": [
       "dtype('int64')"
      ]
     },
     "execution_count": 2,
     "metadata": {},
     "output_type": "execute_result"
    }
   ],
   "source": [
    "# Your code here\n",
    "dtype = reviews.points.dtype\n",
    "dtype\n",
    "\n",
    "# Check your answer\n",
    "# q1.check()"
   ]
  },
  {
   "cell_type": "code",
   "execution_count": 3,
   "metadata": {
    "execution": {
     "iopub.execute_input": "2025-10-14T01:16:32.799508Z",
     "iopub.status.busy": "2025-10-14T01:16:32.798997Z",
     "iopub.status.idle": "2025-10-14T01:16:32.819215Z",
     "shell.execute_reply": "2025-10-14T01:16:32.818198Z",
     "shell.execute_reply.started": "2025-10-14T01:16:32.799475Z"
    },
    "trusted": true
   },
   "outputs": [],
   "source": [
    "# q1.hint()\n",
    "# q1.solution()"
   ]
  },
  {
   "cell_type": "markdown",
   "metadata": {},
   "source": [
    "## 2. \n",
    "Create a Series from entries in the `points` column, but convert the entries to strings. Hint: strings are `str` in native Python."
   ]
  },
  {
   "cell_type": "code",
   "execution_count": 4,
   "metadata": {
    "execution": {
     "iopub.execute_input": "2025-10-14T01:16:32.821751Z",
     "iopub.status.busy": "2025-10-14T01:16:32.821232Z",
     "iopub.status.idle": "2025-10-14T01:16:32.870814Z",
     "shell.execute_reply": "2025-10-14T01:16:32.869922Z",
     "shell.execute_reply.started": "2025-10-14T01:16:32.821729Z"
    },
    "trusted": true
   },
   "outputs": [
    {
     "data": {
      "text/plain": [
       "0         87\n",
       "1         87\n",
       "2         87\n",
       "3         87\n",
       "4         87\n",
       "          ..\n",
       "129966    90\n",
       "129967    90\n",
       "129968    90\n",
       "129969    90\n",
       "129970    90\n",
       "Name: points, Length: 129971, dtype: object"
      ]
     },
     "execution_count": 4,
     "metadata": {},
     "output_type": "execute_result"
    }
   ],
   "source": [
    "point_strings = reviews.points.astype(str)\n",
    "point_strings\n",
    "\n",
    "# Check your answer\n",
    "# q2.check()"
   ]
  },
  {
   "cell_type": "code",
   "execution_count": 5,
   "metadata": {
    "execution": {
     "iopub.execute_input": "2025-10-14T01:16:32.872038Z",
     "iopub.status.busy": "2025-10-14T01:16:32.871632Z",
     "iopub.status.idle": "2025-10-14T01:16:32.882629Z",
     "shell.execute_reply": "2025-10-14T01:16:32.881705Z",
     "shell.execute_reply.started": "2025-10-14T01:16:32.872009Z"
    },
    "trusted": true
   },
   "outputs": [],
   "source": [
    "# q2.hint()\n",
    "# q2.solution()"
   ]
  },
  {
   "cell_type": "markdown",
   "metadata": {},
   "source": [
    "## 3.\n",
    "Sometimes the price column is null. How many reviews in the dataset are missing a price?"
   ]
  },
  {
   "cell_type": "code",
   "execution_count": 6,
   "metadata": {
    "execution": {
     "iopub.execute_input": "2025-10-14T01:16:32.883871Z",
     "iopub.status.busy": "2025-10-14T01:16:32.883569Z",
     "iopub.status.idle": "2025-10-14T01:16:32.897384Z",
     "shell.execute_reply": "2025-10-14T01:16:32.896463Z",
     "shell.execute_reply.started": "2025-10-14T01:16:32.883844Z"
    },
    "trusted": true
   },
   "outputs": [
    {
     "data": {
      "text/plain": [
       "np.int64(8996)"
      ]
     },
     "execution_count": 6,
     "metadata": {},
     "output_type": "execute_result"
    }
   ],
   "source": [
    "n_missing_prices = reviews.price.isnull().sum()\n",
    "n_missing_prices\n",
    "\n",
    "# Check your answer\n",
    "# q3.check()"
   ]
  },
  {
   "cell_type": "code",
   "execution_count": 7,
   "metadata": {
    "execution": {
     "iopub.execute_input": "2025-10-14T01:16:32.898863Z",
     "iopub.status.busy": "2025-10-14T01:16:32.898537Z",
     "iopub.status.idle": "2025-10-14T01:16:32.917682Z",
     "shell.execute_reply": "2025-10-14T01:16:32.916589Z",
     "shell.execute_reply.started": "2025-10-14T01:16:32.898834Z"
    },
    "trusted": true
   },
   "outputs": [],
   "source": [
    "# q3.hint()\n",
    "# q3.solution()"
   ]
  },
  {
   "cell_type": "markdown",
   "metadata": {},
   "source": [
    "## 4.\n",
    "What are the most common wine-producing regions? Create a Series counting the number of times each value occurs in the `region_1` field. This field is often missing data, so replace missing values with `Unknown`. Sort in descending order.  Your output should look something like this:\n",
    "\n",
    "```\n",
    "Unknown                    21247\n",
    "Napa Valley                 4480\n",
    "                           ...  \n",
    "Bardolino Superiore            1\n",
    "Primitivo del Tarantino        1\n",
    "Name: region_1, Length: 1230, dtype: int64\n",
    "```"
   ]
  },
  {
   "cell_type": "code",
   "execution_count": 8,
   "metadata": {
    "execution": {
     "iopub.execute_input": "2025-10-14T01:16:32.919222Z",
     "iopub.status.busy": "2025-10-14T01:16:32.918935Z",
     "iopub.status.idle": "2025-10-14T01:16:32.969460Z",
     "shell.execute_reply": "2025-10-14T01:16:32.968578Z",
     "shell.execute_reply.started": "2025-10-14T01:16:32.919197Z"
    },
    "trusted": true
   },
   "outputs": [
    {
     "data": {
      "text/plain": [
       "region_1\n",
       "Unknown                               21247\n",
       "Napa Valley                            4480\n",
       "Columbia Valley (WA)                   4124\n",
       "Russian River Valley                   3091\n",
       "California                             2629\n",
       "                                      ...  \n",
       "Sonoma-Santa Barbara-Mendocino            1\n",
       "Sonoma County-Santa Barbara County        1\n",
       "Del Veneto                                1\n",
       "Bardolino Superiore                       1\n",
       "Paestum                                   1\n",
       "Name: count, Length: 1230, dtype: int64"
      ]
     },
     "execution_count": 8,
     "metadata": {},
     "output_type": "execute_result"
    }
   ],
   "source": [
    "reviews_per_region = reviews.region_1.fillna('Unknown').value_counts().sort_values(ascending=False)\n",
    "reviews_per_region\n",
    "\n",
    "# Check your answer\n",
    "# q4.check()"
   ]
  },
  {
   "cell_type": "code",
   "execution_count": 9,
   "metadata": {
    "execution": {
     "iopub.execute_input": "2025-10-14T01:16:32.970704Z",
     "iopub.status.busy": "2025-10-14T01:16:32.970378Z",
     "iopub.status.idle": "2025-10-14T01:16:32.981396Z",
     "shell.execute_reply": "2025-10-14T01:16:32.980391Z",
     "shell.execute_reply.started": "2025-10-14T01:16:32.970674Z"
    },
    "trusted": true
   },
   "outputs": [],
   "source": [
    "# q4.hint()\n",
    "# q4.solution()"
   ]
  },
  {
   "cell_type": "markdown",
   "metadata": {},
   "source": [
    "# Keep going\n",
    "\n",
    "Move on to **[renaming and combining](https://www.kaggle.com/residentmario/renaming-and-combining)**."
   ]
  },
  {
   "cell_type": "markdown",
   "metadata": {},
   "source": [
    "---\n",
    "\n",
    "\n",
    "\n",
    "\n",
    "*Have questions or comments? Visit the [course discussion forum](https://www.kaggle.com/learn/pandas/discussion) to chat with other learners.*"
   ]
  }
 ],
 "metadata": {
  "kaggle": {
   "accelerator": "none",
   "dataSources": [
    {
     "datasetId": 655,
     "sourceId": 1252,
     "sourceType": "datasetVersion"
    },
    {
     "datasetId": 2321,
     "sourceId": 3919,
     "sourceType": "datasetVersion"
    },
    {
     "datasetId": 2894,
     "sourceId": 4877,
     "sourceType": "datasetVersion"
    },
    {
     "datasetId": 3491,
     "sourceId": 5624,
     "sourceType": "datasetVersion"
    },
    {
     "datasetId": 1442,
     "sourceId": 8172,
     "sourceType": "datasetVersion"
    },
    {
     "datasetId": 9366,
     "sourceId": 13206,
     "sourceType": "datasetVersion"
    },
    {
     "datasetId": 179555,
     "sourceId": 403916,
     "sourceType": "datasetVersion"
    },
    {
     "datasetId": 4549,
     "sourceId": 466349,
     "sourceType": "datasetVersion"
    },
    {
     "datasetId": 2478,
     "sourceId": 1151655,
     "sourceType": "datasetVersion"
    },
    {
     "datasetId": 10128,
     "sourceId": 5438389,
     "sourceType": "datasetVersion"
    }
   ],
   "isGpuEnabled": false,
   "isInternetEnabled": false,
   "language": "python",
   "sourceType": "notebook"
  },
  "kernelspec": {
   "display_name": ".venv",
   "language": "python",
   "name": "python3"
  },
  "language_info": {
   "codemirror_mode": {
    "name": "ipython",
    "version": 3
   },
   "file_extension": ".py",
   "mimetype": "text/x-python",
   "name": "python",
   "nbconvert_exporter": "python",
   "pygments_lexer": "ipython3",
   "version": "3.12.10"
  }
 },
 "nbformat": 4,
 "nbformat_minor": 4
}
