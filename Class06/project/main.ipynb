{
 "cells": [
  {
   "cell_type": "markdown",
   "metadata": {
    "id": "bX-F20ecLJ-K"
   },
   "source": [
    "# **1. READING THE DATA**"
   ]
  },
  {
   "metadata": {
    "ExecuteTime": {
     "end_time": "2025-10-12T18:20:47.619874Z",
     "start_time": "2025-10-12T18:20:45.877504Z"
    }
   },
   "cell_type": "code",
   "source": "!pip install pandas matplotlib",
   "outputs": [
    {
     "name": "stdout",
     "output_type": "stream",
     "text": [
      "Requirement already satisfied: pandas in c:\\users\\alexandre pedro\\appdata\\local\\programs\\python\\python312\\lib\\site-packages (2.1.4)\n",
      "Requirement already satisfied: matplotlib in c:\\users\\alexandre pedro\\desktop\\base_coding\\classes\\data_analytics\\.venv\\lib\\site-packages (3.10.7)\n",
      "Requirement already satisfied: numpy<2,>=1.26.0 in c:\\users\\alexandre pedro\\appdata\\local\\programs\\python\\python312\\lib\\site-packages (from pandas) (1.26.4)\n",
      "Requirement already satisfied: python-dateutil>=2.8.2 in c:\\users\\alexandre pedro\\appdata\\local\\programs\\python\\python312\\lib\\site-packages (from pandas) (2.9.0.post0)\n",
      "Requirement already satisfied: pytz>=2020.1 in c:\\users\\alexandre pedro\\appdata\\local\\programs\\python\\python312\\lib\\site-packages (from pandas) (2025.2)\n",
      "Requirement already satisfied: tzdata>=2022.1 in c:\\users\\alexandre pedro\\appdata\\local\\programs\\python\\python312\\lib\\site-packages (from pandas) (2025.2)\n",
      "Requirement already satisfied: contourpy>=1.0.1 in c:\\users\\alexandre pedro\\desktop\\base_coding\\classes\\data_analytics\\.venv\\lib\\site-packages (from matplotlib) (1.3.3)\n",
      "Requirement already satisfied: cycler>=0.10 in c:\\users\\alexandre pedro\\desktop\\base_coding\\classes\\data_analytics\\.venv\\lib\\site-packages (from matplotlib) (0.12.1)\n",
      "Requirement already satisfied: fonttools>=4.22.0 in c:\\users\\alexandre pedro\\desktop\\base_coding\\classes\\data_analytics\\.venv\\lib\\site-packages (from matplotlib) (4.60.1)\n",
      "Requirement already satisfied: kiwisolver>=1.3.1 in c:\\users\\alexandre pedro\\desktop\\base_coding\\classes\\data_analytics\\.venv\\lib\\site-packages (from matplotlib) (1.4.9)\n",
      "Requirement already satisfied: packaging>=20.0 in c:\\users\\alexandre pedro\\appdata\\local\\programs\\python\\python312\\lib\\site-packages (from matplotlib) (25.0)\n",
      "Requirement already satisfied: pillow>=8 in c:\\users\\alexandre pedro\\appdata\\local\\programs\\python\\python312\\lib\\site-packages (from matplotlib) (11.3.0)\n",
      "Requirement already satisfied: pyparsing>=3 in c:\\users\\alexandre pedro\\appdata\\local\\programs\\python\\python312\\lib\\site-packages (from matplotlib) (3.2.3)\n",
      "Requirement already satisfied: six>=1.5 in c:\\users\\alexandre pedro\\appdata\\local\\programs\\python\\python312\\lib\\site-packages (from python-dateutil>=2.8.2->pandas) (1.17.0)\n"
     ]
    }
   ],
   "execution_count": 187
  },
  {
   "cell_type": "code",
   "metadata": {
    "colab": {
     "base_uri": "https://localhost:8080/",
     "height": 423
    },
    "id": "m-28cLE90q7x",
    "outputId": "ff3df326-9edd-4597-8897-5e81ac6e55ae",
    "ExecuteTime": {
     "end_time": "2025-10-12T18:20:47.857466Z",
     "start_time": "2025-10-12T18:20:47.681587Z"
    }
   },
   "source": [
    "import pandas as pd\n",
    "\n",
    "ORIGIN = 'https://raw.githubusercontent.com/ivansanchespetrucci/python-pandas/refs/heads/main/base_automoveis.csv'\n",
    "MODE = 'r'\n",
    "ENCODING = 'utf-8'\n",
    "# FORMAT_SPEC_2f = '2f'\n",
    "SEPARATOR = ','\n",
    "\n",
    "data = pd.read_csv(filepath_or_buffer=ORIGIN, sep=SEPARATOR, encoding=ENCODING)\n",
    "data"
   ],
   "outputs": [
    {
     "data": {
      "text/plain": [
       "     montadora  modelo  ano_fabricacao  valor_mercado\n",
       "0         Ford   Focus            2017       62399.38\n",
       "1   Volkswagen    Polo            2010        5000.00\n",
       "2    Chevrolet   Corsa            2017        9944.40\n",
       "3       Toyota   Yaris            2012        5000.00\n",
       "4    Chevrolet   Cruze            2018       57020.67\n",
       "..         ...     ...             ...            ...\n",
       "95        Ford  Fiesta            2007        5000.00\n",
       "96       Honda    HR-V            2012        5000.00\n",
       "97  Volkswagen   Jetta            2019       32496.56\n",
       "98   Chevrolet   Corsa            2022       56143.58\n",
       "99      Toyota    RAV4            2009        7970.51\n",
       "\n",
       "[100 rows x 4 columns]"
      ],
      "text/html": [
       "<div>\n",
       "<style scoped>\n",
       "    .dataframe tbody tr th:only-of-type {\n",
       "        vertical-align: middle;\n",
       "    }\n",
       "\n",
       "    .dataframe tbody tr th {\n",
       "        vertical-align: top;\n",
       "    }\n",
       "\n",
       "    .dataframe thead th {\n",
       "        text-align: right;\n",
       "    }\n",
       "</style>\n",
       "<table border=\"1\" class=\"dataframe\">\n",
       "  <thead>\n",
       "    <tr style=\"text-align: right;\">\n",
       "      <th></th>\n",
       "      <th>montadora</th>\n",
       "      <th>modelo</th>\n",
       "      <th>ano_fabricacao</th>\n",
       "      <th>valor_mercado</th>\n",
       "    </tr>\n",
       "  </thead>\n",
       "  <tbody>\n",
       "    <tr>\n",
       "      <th>0</th>\n",
       "      <td>Ford</td>\n",
       "      <td>Focus</td>\n",
       "      <td>2017</td>\n",
       "      <td>62399.38</td>\n",
       "    </tr>\n",
       "    <tr>\n",
       "      <th>1</th>\n",
       "      <td>Volkswagen</td>\n",
       "      <td>Polo</td>\n",
       "      <td>2010</td>\n",
       "      <td>5000.00</td>\n",
       "    </tr>\n",
       "    <tr>\n",
       "      <th>2</th>\n",
       "      <td>Chevrolet</td>\n",
       "      <td>Corsa</td>\n",
       "      <td>2017</td>\n",
       "      <td>9944.40</td>\n",
       "    </tr>\n",
       "    <tr>\n",
       "      <th>3</th>\n",
       "      <td>Toyota</td>\n",
       "      <td>Yaris</td>\n",
       "      <td>2012</td>\n",
       "      <td>5000.00</td>\n",
       "    </tr>\n",
       "    <tr>\n",
       "      <th>4</th>\n",
       "      <td>Chevrolet</td>\n",
       "      <td>Cruze</td>\n",
       "      <td>2018</td>\n",
       "      <td>57020.67</td>\n",
       "    </tr>\n",
       "    <tr>\n",
       "      <th>...</th>\n",
       "      <td>...</td>\n",
       "      <td>...</td>\n",
       "      <td>...</td>\n",
       "      <td>...</td>\n",
       "    </tr>\n",
       "    <tr>\n",
       "      <th>95</th>\n",
       "      <td>Ford</td>\n",
       "      <td>Fiesta</td>\n",
       "      <td>2007</td>\n",
       "      <td>5000.00</td>\n",
       "    </tr>\n",
       "    <tr>\n",
       "      <th>96</th>\n",
       "      <td>Honda</td>\n",
       "      <td>HR-V</td>\n",
       "      <td>2012</td>\n",
       "      <td>5000.00</td>\n",
       "    </tr>\n",
       "    <tr>\n",
       "      <th>97</th>\n",
       "      <td>Volkswagen</td>\n",
       "      <td>Jetta</td>\n",
       "      <td>2019</td>\n",
       "      <td>32496.56</td>\n",
       "    </tr>\n",
       "    <tr>\n",
       "      <th>98</th>\n",
       "      <td>Chevrolet</td>\n",
       "      <td>Corsa</td>\n",
       "      <td>2022</td>\n",
       "      <td>56143.58</td>\n",
       "    </tr>\n",
       "    <tr>\n",
       "      <th>99</th>\n",
       "      <td>Toyota</td>\n",
       "      <td>RAV4</td>\n",
       "      <td>2009</td>\n",
       "      <td>7970.51</td>\n",
       "    </tr>\n",
       "  </tbody>\n",
       "</table>\n",
       "<p>100 rows × 4 columns</p>\n",
       "</div>"
      ]
     },
     "execution_count": 188,
     "metadata": {},
     "output_type": "execute_result"
    }
   ],
   "execution_count": 188
  },
  {
   "cell_type": "markdown",
   "metadata": {
    "id": "BSnCVeB3LGVg"
   },
   "source": [
    "## **1.1. FIRST 3 ROWS**"
   ]
  },
  {
   "cell_type": "code",
   "metadata": {
    "colab": {
     "base_uri": "https://localhost:8080/",
     "height": 143
    },
    "id": "YtrQ_c781za6",
    "outputId": "94231f55-597e-4bf9-d26a-fc9c4d8caa25",
    "ExecuteTime": {
     "end_time": "2025-10-12T18:20:47.877962Z",
     "start_time": "2025-10-12T18:20:47.866473Z"
    }
   },
   "source": [
    "data.head(n=3)"
   ],
   "outputs": [
    {
     "data": {
      "text/plain": [
       "    montadora modelo  ano_fabricacao  valor_mercado\n",
       "0        Ford  Focus            2017       62399.38\n",
       "1  Volkswagen   Polo            2010        5000.00\n",
       "2   Chevrolet  Corsa            2017        9944.40"
      ],
      "text/html": [
       "<div>\n",
       "<style scoped>\n",
       "    .dataframe tbody tr th:only-of-type {\n",
       "        vertical-align: middle;\n",
       "    }\n",
       "\n",
       "    .dataframe tbody tr th {\n",
       "        vertical-align: top;\n",
       "    }\n",
       "\n",
       "    .dataframe thead th {\n",
       "        text-align: right;\n",
       "    }\n",
       "</style>\n",
       "<table border=\"1\" class=\"dataframe\">\n",
       "  <thead>\n",
       "    <tr style=\"text-align: right;\">\n",
       "      <th></th>\n",
       "      <th>montadora</th>\n",
       "      <th>modelo</th>\n",
       "      <th>ano_fabricacao</th>\n",
       "      <th>valor_mercado</th>\n",
       "    </tr>\n",
       "  </thead>\n",
       "  <tbody>\n",
       "    <tr>\n",
       "      <th>0</th>\n",
       "      <td>Ford</td>\n",
       "      <td>Focus</td>\n",
       "      <td>2017</td>\n",
       "      <td>62399.38</td>\n",
       "    </tr>\n",
       "    <tr>\n",
       "      <th>1</th>\n",
       "      <td>Volkswagen</td>\n",
       "      <td>Polo</td>\n",
       "      <td>2010</td>\n",
       "      <td>5000.00</td>\n",
       "    </tr>\n",
       "    <tr>\n",
       "      <th>2</th>\n",
       "      <td>Chevrolet</td>\n",
       "      <td>Corsa</td>\n",
       "      <td>2017</td>\n",
       "      <td>9944.40</td>\n",
       "    </tr>\n",
       "  </tbody>\n",
       "</table>\n",
       "</div>"
      ]
     },
     "execution_count": 189,
     "metadata": {},
     "output_type": "execute_result"
    }
   ],
   "execution_count": 189
  },
  {
   "cell_type": "markdown",
   "metadata": {
    "id": "WbWz3SJjVkoC"
   },
   "source": [
    "## **1.2. LAST 10 ROWS**"
   ]
  },
  {
   "cell_type": "code",
   "metadata": {
    "colab": {
     "base_uri": "https://localhost:8080/",
     "height": 363
    },
    "id": "iq_Gt9vh126-",
    "outputId": "ecd8edcb-9c10-4dd3-a96d-7713b5a22634",
    "ExecuteTime": {
     "end_time": "2025-10-12T18:20:47.922593Z",
     "start_time": "2025-10-12T18:20:47.913638Z"
    }
   },
   "source": [
    "data.tail(n=10)"
   ],
   "outputs": [
    {
     "data": {
      "text/plain": [
       "     montadora  modelo  ano_fabricacao  valor_mercado\n",
       "90      Toyota   Hilux            2022       42740.59\n",
       "91      Toyota   Yaris            2018        7154.62\n",
       "92        Ford   Focus            2022       35918.10\n",
       "93        Ford  Fiesta            2018       34799.42\n",
       "94  Volkswagen    Polo            2014       13507.98\n",
       "95        Ford  Fiesta            2007        5000.00\n",
       "96       Honda    HR-V            2012        5000.00\n",
       "97  Volkswagen   Jetta            2019       32496.56\n",
       "98   Chevrolet   Corsa            2022       56143.58\n",
       "99      Toyota    RAV4            2009        7970.51"
      ],
      "text/html": [
       "<div>\n",
       "<style scoped>\n",
       "    .dataframe tbody tr th:only-of-type {\n",
       "        vertical-align: middle;\n",
       "    }\n",
       "\n",
       "    .dataframe tbody tr th {\n",
       "        vertical-align: top;\n",
       "    }\n",
       "\n",
       "    .dataframe thead th {\n",
       "        text-align: right;\n",
       "    }\n",
       "</style>\n",
       "<table border=\"1\" class=\"dataframe\">\n",
       "  <thead>\n",
       "    <tr style=\"text-align: right;\">\n",
       "      <th></th>\n",
       "      <th>montadora</th>\n",
       "      <th>modelo</th>\n",
       "      <th>ano_fabricacao</th>\n",
       "      <th>valor_mercado</th>\n",
       "    </tr>\n",
       "  </thead>\n",
       "  <tbody>\n",
       "    <tr>\n",
       "      <th>90</th>\n",
       "      <td>Toyota</td>\n",
       "      <td>Hilux</td>\n",
       "      <td>2022</td>\n",
       "      <td>42740.59</td>\n",
       "    </tr>\n",
       "    <tr>\n",
       "      <th>91</th>\n",
       "      <td>Toyota</td>\n",
       "      <td>Yaris</td>\n",
       "      <td>2018</td>\n",
       "      <td>7154.62</td>\n",
       "    </tr>\n",
       "    <tr>\n",
       "      <th>92</th>\n",
       "      <td>Ford</td>\n",
       "      <td>Focus</td>\n",
       "      <td>2022</td>\n",
       "      <td>35918.10</td>\n",
       "    </tr>\n",
       "    <tr>\n",
       "      <th>93</th>\n",
       "      <td>Ford</td>\n",
       "      <td>Fiesta</td>\n",
       "      <td>2018</td>\n",
       "      <td>34799.42</td>\n",
       "    </tr>\n",
       "    <tr>\n",
       "      <th>94</th>\n",
       "      <td>Volkswagen</td>\n",
       "      <td>Polo</td>\n",
       "      <td>2014</td>\n",
       "      <td>13507.98</td>\n",
       "    </tr>\n",
       "    <tr>\n",
       "      <th>95</th>\n",
       "      <td>Ford</td>\n",
       "      <td>Fiesta</td>\n",
       "      <td>2007</td>\n",
       "      <td>5000.00</td>\n",
       "    </tr>\n",
       "    <tr>\n",
       "      <th>96</th>\n",
       "      <td>Honda</td>\n",
       "      <td>HR-V</td>\n",
       "      <td>2012</td>\n",
       "      <td>5000.00</td>\n",
       "    </tr>\n",
       "    <tr>\n",
       "      <th>97</th>\n",
       "      <td>Volkswagen</td>\n",
       "      <td>Jetta</td>\n",
       "      <td>2019</td>\n",
       "      <td>32496.56</td>\n",
       "    </tr>\n",
       "    <tr>\n",
       "      <th>98</th>\n",
       "      <td>Chevrolet</td>\n",
       "      <td>Corsa</td>\n",
       "      <td>2022</td>\n",
       "      <td>56143.58</td>\n",
       "    </tr>\n",
       "    <tr>\n",
       "      <th>99</th>\n",
       "      <td>Toyota</td>\n",
       "      <td>RAV4</td>\n",
       "      <td>2009</td>\n",
       "      <td>7970.51</td>\n",
       "    </tr>\n",
       "  </tbody>\n",
       "</table>\n",
       "</div>"
      ]
     },
     "execution_count": 190,
     "metadata": {},
     "output_type": "execute_result"
    }
   ],
   "execution_count": 190
  },
  {
   "cell_type": "markdown",
   "metadata": {
    "id": "OgqrLRgzLYuY"
   },
   "source": [
    "# **2. DATA TYPES**"
   ]
  },
  {
   "cell_type": "markdown",
   "source": [
    "## **2.1. TYPE FUNCTION**"
   ],
   "metadata": {
    "id": "KIREr__gVt-a"
   }
  },
  {
   "cell_type": "code",
   "metadata": {
    "colab": {
     "base_uri": "https://localhost:8080/",
     "height": 203
    },
    "id": "hxg2HE2_00h0",
    "outputId": "5a8e95e2-2c52-4bcd-e02a-f63782297181",
    "ExecuteTime": {
     "end_time": "2025-10-12T18:20:47.951575Z",
     "start_time": "2025-10-12T18:20:47.946065Z"
    }
   },
   "source": [
    "type(data)"
   ],
   "outputs": [
    {
     "data": {
      "text/plain": [
       "pandas.core.frame.DataFrame"
      ]
     },
     "execution_count": 191,
     "metadata": {},
     "output_type": "execute_result"
    }
   ],
   "execution_count": 191
  },
  {
   "cell_type": "markdown",
   "source": [
    "## **2.2. SHAPE FUNCTION**\n",
    "\n",
    "How many lines and columns we have"
   ],
   "metadata": {
    "id": "stbJjpZyVzMT"
   }
  },
  {
   "cell_type": "code",
   "metadata": {
    "colab": {
     "base_uri": "https://localhost:8080/"
    },
    "id": "S1PQVjjRNNNJ",
    "outputId": "9067af4e-b5e8-448e-c019-d6f355b23537",
    "ExecuteTime": {
     "end_time": "2025-10-12T18:20:47.984156Z",
     "start_time": "2025-10-12T18:20:47.977834Z"
    }
   },
   "source": [
    "# SHow how lines and columns we have\n",
    "data.shape"
   ],
   "outputs": [
    {
     "data": {
      "text/plain": [
       "(100, 4)"
      ]
     },
     "execution_count": 192,
     "metadata": {},
     "output_type": "execute_result"
    }
   ],
   "execution_count": 192
  },
  {
   "cell_type": "markdown",
   "source": [
    "## **2.3. COLUMN NAMES**"
   ],
   "metadata": {
    "id": "qxsbaOJmV7W6"
   }
  },
  {
   "cell_type": "code",
   "metadata": {
    "colab": {
     "base_uri": "https://localhost:8080/"
    },
    "id": "lqhaUlDnNbnW",
    "outputId": "32cb8a8b-7b8e-4b12-ceaa-d276677fdced",
    "ExecuteTime": {
     "end_time": "2025-10-12T18:20:47.998701Z",
     "start_time": "2025-10-12T18:20:47.993700Z"
    }
   },
   "source": [
    "data.columns"
   ],
   "outputs": [
    {
     "data": {
      "text/plain": [
       "Index(['montadora', 'modelo', 'ano_fabricacao', 'valor_mercado'], dtype='object')"
      ]
     },
     "execution_count": 193,
     "metadata": {},
     "output_type": "execute_result"
    }
   ],
   "execution_count": 193
  },
  {
   "cell_type": "markdown",
   "source": [
    "## **2.4. GENERAL INFORMATION - COLUMNS, TYPES, AND ROWS**"
   ],
   "metadata": {
    "id": "oHdtlEX4WA9q"
   }
  },
  {
   "cell_type": "code",
   "source": [
    "data.info()"
   ],
   "metadata": {
    "colab": {
     "base_uri": "https://localhost:8080/"
    },
    "id": "ZHh2rSWbRhQG",
    "outputId": "b2b219f0-ddc1-4f3d-97e5-0d8dbfaf8e91",
    "ExecuteTime": {
     "end_time": "2025-10-12T18:20:48.023758Z",
     "start_time": "2025-10-12T18:20:48.017830Z"
    }
   },
   "outputs": [
    {
     "name": "stdout",
     "output_type": "stream",
     "text": [
      "<class 'pandas.core.frame.DataFrame'>\n",
      "RangeIndex: 100 entries, 0 to 99\n",
      "Data columns (total 4 columns):\n",
      " #   Column          Non-Null Count  Dtype  \n",
      "---  ------          --------------  -----  \n",
      " 0   montadora       100 non-null    object \n",
      " 1   modelo          100 non-null    object \n",
      " 2   ano_fabricacao  100 non-null    int64  \n",
      " 3   valor_mercado   97 non-null     float64\n",
      "dtypes: float64(1), int64(1), object(2)\n",
      "memory usage: 3.3+ KB\n"
     ]
    }
   ],
   "execution_count": 194
  },
  {
   "cell_type": "markdown",
   "metadata": {
    "id": "I57RZ2R9LzqE"
   },
   "source": [
    "# **3. EXPLORING THE DATA**\n",
    "\n"
   ]
  },
  {
   "cell_type": "code",
   "metadata": {
    "id": "Cs8ZTGbaK4lu",
    "colab": {
     "base_uri": "https://localhost:8080/",
     "height": 423
    },
    "outputId": "f574ba51-a463-4e0d-e364-4483ec1a7fa4",
    "ExecuteTime": {
     "end_time": "2025-10-12T18:20:48.048904Z",
     "start_time": "2025-10-12T18:20:48.041766Z"
    }
   },
   "source": [
    "# One field => data[field_name]\n",
    "# Two or more fields => data[[field_name_1, field_name_2]]\n",
    "data[['montadora', 'modelo']]"
   ],
   "outputs": [
    {
     "data": {
      "text/plain": [
       "     montadora  modelo\n",
       "0         Ford   Focus\n",
       "1   Volkswagen    Polo\n",
       "2    Chevrolet   Corsa\n",
       "3       Toyota   Yaris\n",
       "4    Chevrolet   Cruze\n",
       "..         ...     ...\n",
       "95        Ford  Fiesta\n",
       "96       Honda    HR-V\n",
       "97  Volkswagen   Jetta\n",
       "98   Chevrolet   Corsa\n",
       "99      Toyota    RAV4\n",
       "\n",
       "[100 rows x 2 columns]"
      ],
      "text/html": [
       "<div>\n",
       "<style scoped>\n",
       "    .dataframe tbody tr th:only-of-type {\n",
       "        vertical-align: middle;\n",
       "    }\n",
       "\n",
       "    .dataframe tbody tr th {\n",
       "        vertical-align: top;\n",
       "    }\n",
       "\n",
       "    .dataframe thead th {\n",
       "        text-align: right;\n",
       "    }\n",
       "</style>\n",
       "<table border=\"1\" class=\"dataframe\">\n",
       "  <thead>\n",
       "    <tr style=\"text-align: right;\">\n",
       "      <th></th>\n",
       "      <th>montadora</th>\n",
       "      <th>modelo</th>\n",
       "    </tr>\n",
       "  </thead>\n",
       "  <tbody>\n",
       "    <tr>\n",
       "      <th>0</th>\n",
       "      <td>Ford</td>\n",
       "      <td>Focus</td>\n",
       "    </tr>\n",
       "    <tr>\n",
       "      <th>1</th>\n",
       "      <td>Volkswagen</td>\n",
       "      <td>Polo</td>\n",
       "    </tr>\n",
       "    <tr>\n",
       "      <th>2</th>\n",
       "      <td>Chevrolet</td>\n",
       "      <td>Corsa</td>\n",
       "    </tr>\n",
       "    <tr>\n",
       "      <th>3</th>\n",
       "      <td>Toyota</td>\n",
       "      <td>Yaris</td>\n",
       "    </tr>\n",
       "    <tr>\n",
       "      <th>4</th>\n",
       "      <td>Chevrolet</td>\n",
       "      <td>Cruze</td>\n",
       "    </tr>\n",
       "    <tr>\n",
       "      <th>...</th>\n",
       "      <td>...</td>\n",
       "      <td>...</td>\n",
       "    </tr>\n",
       "    <tr>\n",
       "      <th>95</th>\n",
       "      <td>Ford</td>\n",
       "      <td>Fiesta</td>\n",
       "    </tr>\n",
       "    <tr>\n",
       "      <th>96</th>\n",
       "      <td>Honda</td>\n",
       "      <td>HR-V</td>\n",
       "    </tr>\n",
       "    <tr>\n",
       "      <th>97</th>\n",
       "      <td>Volkswagen</td>\n",
       "      <td>Jetta</td>\n",
       "    </tr>\n",
       "    <tr>\n",
       "      <th>98</th>\n",
       "      <td>Chevrolet</td>\n",
       "      <td>Corsa</td>\n",
       "    </tr>\n",
       "    <tr>\n",
       "      <th>99</th>\n",
       "      <td>Toyota</td>\n",
       "      <td>RAV4</td>\n",
       "    </tr>\n",
       "  </tbody>\n",
       "</table>\n",
       "<p>100 rows × 2 columns</p>\n",
       "</div>"
      ]
     },
     "execution_count": 195,
     "metadata": {},
     "output_type": "execute_result"
    }
   ],
   "execution_count": 195
  },
  {
   "cell_type": "markdown",
   "metadata": {
    "id": "ZV6LtqMRMClm"
   },
   "source": [
    "# **4. DATA ANALYSIS (EDA)**\n",
    "\n"
   ]
  },
  {
   "cell_type": "markdown",
   "source": [
    "## **4.1. AVERAGE VEHICLE VALUES**"
   ],
   "metadata": {
    "id": "JlICEiAaWOwW"
   }
  },
  {
   "cell_type": "code",
   "metadata": {
    "id": "AF5YA1-aK-dj",
    "colab": {
     "base_uri": "https://localhost:8080/"
    },
    "outputId": "bed37f74-b35f-482e-f6a4-63f5440f57e3",
    "ExecuteTime": {
     "end_time": "2025-10-12T18:20:48.073244Z",
     "start_time": "2025-10-12T18:20:48.066770Z"
    }
   },
   "source": [
    "data['valor_mercado'].mean()"
   ],
   "outputs": [
    {
     "data": {
      "text/plain": [
       "19798.34556701031"
      ]
     },
     "execution_count": 196,
     "metadata": {},
     "output_type": "execute_result"
    }
   ],
   "execution_count": 196
  },
  {
   "cell_type": "markdown",
   "source": [
    "## **4.2. AVERAGE VEHICLE VALUES PER MANUFACTURER**"
   ],
   "metadata": {
    "id": "9CYcj2UHWXER"
   }
  },
  {
   "cell_type": "code",
   "source": [
    "data.groupby('montadora')['valor_mercado'].mean(numeric_only=True)"
   ],
   "metadata": {
    "colab": {
     "base_uri": "https://localhost:8080/",
     "height": 272
    },
    "id": "wO4QS1X5U9mD",
    "outputId": "e0ed7d4a-9632-4049-f0c0-3d1c65ba8a27",
    "ExecuteTime": {
     "end_time": "2025-10-12T18:20:48.099808Z",
     "start_time": "2025-10-12T18:20:48.094608Z"
    }
   },
   "outputs": [
    {
     "data": {
      "text/plain": [
       "montadora\n",
       "Chevrolet     17031.477895\n",
       "Ford          20590.348125\n",
       "Honda         19383.115714\n",
       "Toyota        19886.930870\n",
       "Volkswagen    21545.313600\n",
       "Name: valor_mercado, dtype: float64"
      ]
     },
     "execution_count": 197,
     "metadata": {},
     "output_type": "execute_result"
    }
   ],
   "execution_count": 197
  },
  {
   "cell_type": "markdown",
   "source": [
    "## **4.3. AVERAGE VEHICLE VALUES PER MANUFACTURER, ORDERED BY 'valor de mercado' FIELD (DESC ORDER)**"
   ],
   "metadata": {
    "id": "OV11SWc2Wk0B"
   }
  },
  {
   "cell_type": "code",
   "source": [
    "data.groupby('montadora')[['valor_mercado']].mean(numeric_only=True).sort_values(by='valor_mercado',ascending=False)"
   ],
   "metadata": {
    "colab": {
     "base_uri": "https://localhost:8080/",
     "height": 237
    },
    "id": "HeKAs3J9T59V",
    "outputId": "4bcda44f-c581-4bf2-a3fd-a9983eb7be46",
    "ExecuteTime": {
     "end_time": "2025-10-12T18:20:48.125184Z",
     "start_time": "2025-10-12T18:20:48.116142Z"
    }
   },
   "outputs": [
    {
     "data": {
      "text/plain": [
       "            valor_mercado\n",
       "montadora                \n",
       "Volkswagen   21545.313600\n",
       "Ford         20590.348125\n",
       "Toyota       19886.930870\n",
       "Honda        19383.115714\n",
       "Chevrolet    17031.477895"
      ],
      "text/html": [
       "<div>\n",
       "<style scoped>\n",
       "    .dataframe tbody tr th:only-of-type {\n",
       "        vertical-align: middle;\n",
       "    }\n",
       "\n",
       "    .dataframe tbody tr th {\n",
       "        vertical-align: top;\n",
       "    }\n",
       "\n",
       "    .dataframe thead th {\n",
       "        text-align: right;\n",
       "    }\n",
       "</style>\n",
       "<table border=\"1\" class=\"dataframe\">\n",
       "  <thead>\n",
       "    <tr style=\"text-align: right;\">\n",
       "      <th></th>\n",
       "      <th>valor_mercado</th>\n",
       "    </tr>\n",
       "    <tr>\n",
       "      <th>montadora</th>\n",
       "      <th></th>\n",
       "    </tr>\n",
       "  </thead>\n",
       "  <tbody>\n",
       "    <tr>\n",
       "      <th>Volkswagen</th>\n",
       "      <td>21545.313600</td>\n",
       "    </tr>\n",
       "    <tr>\n",
       "      <th>Ford</th>\n",
       "      <td>20590.348125</td>\n",
       "    </tr>\n",
       "    <tr>\n",
       "      <th>Toyota</th>\n",
       "      <td>19886.930870</td>\n",
       "    </tr>\n",
       "    <tr>\n",
       "      <th>Honda</th>\n",
       "      <td>19383.115714</td>\n",
       "    </tr>\n",
       "    <tr>\n",
       "      <th>Chevrolet</th>\n",
       "      <td>17031.477895</td>\n",
       "    </tr>\n",
       "  </tbody>\n",
       "</table>\n",
       "</div>"
      ]
     },
     "execution_count": 198,
     "metadata": {},
     "output_type": "execute_result"
    }
   ],
   "execution_count": 198
  },
  {
   "cell_type": "markdown",
   "source": [
    "## **4.4. PROPORTION OF EACH MANUFACTURER IN OUR FLEET / INVENTORY**"
   ],
   "metadata": {
    "id": "4lc9Y2UMW0r9"
   }
  },
  {
   "cell_type": "markdown",
   "source": [
    "### **4.4.1. PLOT WITH THE DATA**"
   ],
   "metadata": {
    "id": "EQ71egh7X7pL"
   }
  },
  {
   "cell_type": "code",
   "source": [
    "data_manufacturer = data.groupby('montadora')[['valor_mercado']].mean(numeric_only=True).sort_values(by='valor_mercado',ascending=False)\n",
    "data_manufacturer.plot(kind='barh', figsize=(10,5),color='red')"
   ],
   "metadata": {
    "colab": {
     "base_uri": "https://localhost:8080/",
     "height": 462
    },
    "id": "x6kcdSMVVQvI",
    "outputId": "b26bbc6d-eef5-442d-eaaf-28235282285a",
    "ExecuteTime": {
     "end_time": "2025-10-12T18:20:48.201416Z",
     "start_time": "2025-10-12T18:20:48.134042Z"
    }
   },
   "outputs": [
    {
     "data": {
      "text/plain": [
       "<Axes: ylabel='montadora'>"
      ]
     },
     "execution_count": 199,
     "metadata": {},
     "output_type": "execute_result"
    },
    {
     "data": {
      "text/plain": [
       "<Figure size 1000x500 with 1 Axes>"
      ],
      "image/png": "[encoded data removed]"
     },
     "metadata": {},
     "output_type": "display_data",
     "jetTransient": {
      "display_id": null
     }
    }
   ],
   "execution_count": 199
  },
  {
   "cell_type": "markdown",
   "source": [
    "### **4.4.2 NUMBER OF VEHICLES**"
   ],
   "metadata": {
    "id": "yKB-XCW2YC_A"
   }
  },
  {
   "cell_type": "code",
   "source": [
    "vehicles_qty = data.montadora.value_counts()\n",
    "vehicles_qty.plot(kind='barh', figsize=(10,5), color='green')"
   ],
   "metadata": {
    "colab": {
     "base_uri": "https://localhost:8080/",
     "height": 462
    },
    "id": "3qU_42LhYIIT",
    "outputId": "8180f293-1699-44b6-d815-0553732b47e3",
    "ExecuteTime": {
     "end_time": "2025-10-12T18:20:48.277028Z",
     "start_time": "2025-10-12T18:20:48.210573Z"
    }
   },
   "outputs": [
    {
     "data": {
      "text/plain": [
       "<Axes: ylabel='montadora'>"
      ]
     },
     "execution_count": 200,
     "metadata": {},
     "output_type": "execute_result"
    },
    {
     "data": {
      "text/plain": [
       "<Figure size 1000x500 with 1 Axes>"
      ],
      "image/png": "[encoded data removed]"
     },
     "metadata": {},
     "output_type": "display_data",
     "jetTransient": {
      "display_id": null
     }
    }
   ],
   "execution_count": 200
  },
  {
   "cell_type": "markdown",
   "source": [
    "### **4.4.3 PROPORTION**"
   ],
   "metadata": {
    "id": "xzb2vmpkK6dd"
   }
  },
  {
   "cell_type": "code",
   "source": [
    "data.montadora.value_counts(normalize=True)"
   ],
   "metadata": {
    "colab": {
     "base_uri": "https://localhost:8080/",
     "height": 272
    },
    "id": "-0goKB3BK-Qt",
    "outputId": "8d8b90b7-2d0b-4824-8f00-6acc803294bf",
    "ExecuteTime": {
     "end_time": "2025-10-12T18:20:48.289414Z",
     "start_time": "2025-10-12T18:20:48.283372Z"
    }
   },
   "outputs": [
    {
     "data": {
      "text/plain": [
       "montadora\n",
       "Volkswagen    0.25\n",
       "Toyota        0.23\n",
       "Chevrolet     0.20\n",
       "Ford          0.16\n",
       "Honda         0.16\n",
       "Name: proportion, dtype: float64"
      ]
     },
     "execution_count": 201,
     "metadata": {},
     "output_type": "execute_result"
    }
   ],
   "execution_count": 201
  },
  {
   "cell_type": "markdown",
   "metadata": {
    "id": "f0sDuPDLMKNQ"
   },
   "source": [
    "# **5. NULL VALUES**\n",
    "\n"
   ]
  },
  {
   "cell_type": "markdown",
   "source": "## **5.1. CHECKING MISSING VALUES**",
   "metadata": {
    "id": "k-3o0WTsNSC8"
   }
  },
  {
   "cell_type": "code",
   "metadata": {
    "id": "ltCQgQF9LAQc",
    "colab": {
     "base_uri": "https://localhost:8080/",
     "height": 209
    },
    "outputId": "7ac17f4c-9b9c-408f-cc4e-bd959301582a",
    "ExecuteTime": {
     "end_time": "2025-10-12T18:20:48.304673Z",
     "start_time": "2025-10-12T18:20:48.299453Z"
    }
   },
   "source": [
    "data.isnull().sum()"
   ],
   "outputs": [
    {
     "data": {
      "text/plain": [
       "montadora         0\n",
       "modelo            0\n",
       "ano_fabricacao    0\n",
       "valor_mercado     3\n",
       "dtype: int64"
      ]
     },
     "execution_count": 202,
     "metadata": {},
     "output_type": "execute_result"
    }
   ],
   "execution_count": 202
  },
  {
   "cell_type": "markdown",
   "source": [
    "## **5.2. HANDLE NULL VALUES**"
   ],
   "metadata": {
    "id": "m-bxOsd1Pqbk"
   }
  },
  {
   "cell_type": "code",
   "source": [
    "data = data.fillna(value=0)"
   ],
   "metadata": {
    "id": "FuEH3KX1PsKy",
    "ExecuteTime": {
     "end_time": "2025-10-12T18:20:48.316699Z",
     "start_time": "2025-10-12T18:20:48.312690Z"
    }
   },
   "outputs": [],
   "execution_count": 203
  },
  {
   "cell_type": "markdown",
   "source": [
    "## **5.3. CHECKING MISSING VALUES AFTER HANDLE IT**"
   ],
   "metadata": {
    "id": "xIMkYexMQ54_"
   }
  },
  {
   "cell_type": "code",
   "source": [
    "data.isnull().sum()"
   ],
   "metadata": {
    "colab": {
     "base_uri": "https://localhost:8080/",
     "height": 209
    },
    "id": "q_nROeiaQ8sR",
    "outputId": "c223dc0c-196e-4624-f4c5-4ac55cb1761f",
    "ExecuteTime": {
     "end_time": "2025-10-12T18:20:48.332115Z",
     "start_time": "2025-10-12T18:20:48.327437Z"
    }
   },
   "outputs": [
    {
     "data": {
      "text/plain": [
       "montadora         0\n",
       "modelo            0\n",
       "ano_fabricacao    0\n",
       "valor_mercado     0\n",
       "dtype: int64"
      ]
     },
     "execution_count": 204,
     "metadata": {},
     "output_type": "execute_result"
    }
   ],
   "execution_count": 204
  },
  {
   "cell_type": "markdown",
   "metadata": {
    "id": "_M0gUjh0MUPN"
   },
   "source": [
    "# **6. APPLY FILTERS**\n",
    "\n"
   ]
  },
  {
   "cell_type": "markdown",
   "source": [
    "## **6.1. FILTERING VEHICLES BY A SPECIFIC MANUFACTURER**\n",
    "\n"
   ],
   "metadata": {
    "id": "hmX6kCP8Ufd3"
   }
  },
  {
   "cell_type": "code",
   "metadata": {
    "id": "xmxSBoS7LB8z",
    "colab": {
     "base_uri": "https://localhost:8080/"
    },
    "outputId": "cf6ebc3c-ba41-4374-e9e8-f0a727f65722",
    "ExecuteTime": {
     "end_time": "2025-10-12T18:20:48.349542Z",
     "start_time": "2025-10-12T18:20:48.344243Z"
    }
   },
   "source": [
    "data.montadora.unique()"
   ],
   "outputs": [
    {
     "data": {
      "text/plain": [
       "array(['Ford', 'Volkswagen', 'Chevrolet', 'Toyota', 'Honda'], dtype=object)"
      ]
     },
     "execution_count": 205,
     "metadata": {},
     "output_type": "execute_result"
    }
   ],
   "execution_count": 205
  },
  {
   "cell_type": "code",
   "source": [
    "data.query(expr='montadora == \"Ford\" ')"
   ],
   "metadata": {
    "colab": {
     "base_uri": "https://localhost:8080/",
     "height": 551
    },
    "id": "UnZDt64PVYMp",
    "outputId": "ce2091df-94ff-47ea-fa8a-78af36d4446a",
    "ExecuteTime": {
     "end_time": "2025-10-12T18:20:48.368238Z",
     "start_time": "2025-10-12T18:20:48.359694Z"
    }
   },
   "outputs": [
    {
     "data": {
      "text/plain": [
       "   montadora    modelo  ano_fabricacao  valor_mercado\n",
       "0       Ford     Focus            2017       62399.38\n",
       "12      Ford        Ka            2021       36823.04\n",
       "15      Ford     Focus            2008        5000.00\n",
       "26      Ford        Ka            2017       24748.14\n",
       "38      Ford        Ka            2010        5000.00\n",
       "40      Ford    Fusion            2009        8246.02\n",
       "45      Ford    Fusion            2006        5000.00\n",
       "46      Ford        Ka            2019       29725.86\n",
       "54      Ford  EcoSport            2013        5000.00\n",
       "65      Ford    Fusion            2011        5000.00\n",
       "68      Ford    Fiesta            2008        5000.00\n",
       "73      Ford    Fusion            2021       56785.61\n",
       "84      Ford     Focus            2007        5000.00\n",
       "92      Ford     Focus            2022       35918.10\n",
       "93      Ford    Fiesta            2018       34799.42\n",
       "95      Ford    Fiesta            2007        5000.00"
      ],
      "text/html": [
       "<div>\n",
       "<style scoped>\n",
       "    .dataframe tbody tr th:only-of-type {\n",
       "        vertical-align: middle;\n",
       "    }\n",
       "\n",
       "    .dataframe tbody tr th {\n",
       "        vertical-align: top;\n",
       "    }\n",
       "\n",
       "    .dataframe thead th {\n",
       "        text-align: right;\n",
       "    }\n",
       "</style>\n",
       "<table border=\"1\" class=\"dataframe\">\n",
       "  <thead>\n",
       "    <tr style=\"text-align: right;\">\n",
       "      <th></th>\n",
       "      <th>montadora</th>\n",
       "      <th>modelo</th>\n",
       "      <th>ano_fabricacao</th>\n",
       "      <th>valor_mercado</th>\n",
       "    </tr>\n",
       "  </thead>\n",
       "  <tbody>\n",
       "    <tr>\n",
       "      <th>0</th>\n",
       "      <td>Ford</td>\n",
       "      <td>Focus</td>\n",
       "      <td>2017</td>\n",
       "      <td>62399.38</td>\n",
       "    </tr>\n",
       "    <tr>\n",
       "      <th>12</th>\n",
       "      <td>Ford</td>\n",
       "      <td>Ka</td>\n",
       "      <td>2021</td>\n",
       "      <td>36823.04</td>\n",
       "    </tr>\n",
       "    <tr>\n",
       "      <th>15</th>\n",
       "      <td>Ford</td>\n",
       "      <td>Focus</td>\n",
       "      <td>2008</td>\n",
       "      <td>5000.00</td>\n",
       "    </tr>\n",
       "    <tr>\n",
       "      <th>26</th>\n",
       "      <td>Ford</td>\n",
       "      <td>Ka</td>\n",
       "      <td>2017</td>\n",
       "      <td>24748.14</td>\n",
       "    </tr>\n",
       "    <tr>\n",
       "      <th>38</th>\n",
       "      <td>Ford</td>\n",
       "      <td>Ka</td>\n",
       "      <td>2010</td>\n",
       "      <td>5000.00</td>\n",
       "    </tr>\n",
       "    <tr>\n",
       "      <th>40</th>\n",
       "      <td>Ford</td>\n",
       "      <td>Fusion</td>\n",
       "      <td>2009</td>\n",
       "      <td>8246.02</td>\n",
       "    </tr>\n",
       "    <tr>\n",
       "      <th>45</th>\n",
       "      <td>Ford</td>\n",
       "      <td>Fusion</td>\n",
       "      <td>2006</td>\n",
       "      <td>5000.00</td>\n",
       "    </tr>\n",
       "    <tr>\n",
       "      <th>46</th>\n",
       "      <td>Ford</td>\n",
       "      <td>Ka</td>\n",
       "      <td>2019</td>\n",
       "      <td>29725.86</td>\n",
       "    </tr>\n",
       "    <tr>\n",
       "      <th>54</th>\n",
       "      <td>Ford</td>\n",
       "      <td>EcoSport</td>\n",
       "      <td>2013</td>\n",
       "      <td>5000.00</td>\n",
       "    </tr>\n",
       "    <tr>\n",
       "      <th>65</th>\n",
       "      <td>Ford</td>\n",
       "      <td>Fusion</td>\n",
       "      <td>2011</td>\n",
       "      <td>5000.00</td>\n",
       "    </tr>\n",
       "    <tr>\n",
       "      <th>68</th>\n",
       "      <td>Ford</td>\n",
       "      <td>Fiesta</td>\n",
       "      <td>2008</td>\n",
       "      <td>5000.00</td>\n",
       "    </tr>\n",
       "    <tr>\n",
       "      <th>73</th>\n",
       "      <td>Ford</td>\n",
       "      <td>Fusion</td>\n",
       "      <td>2021</td>\n",
       "      <td>56785.61</td>\n",
       "    </tr>\n",
       "    <tr>\n",
       "      <th>84</th>\n",
       "      <td>Ford</td>\n",
       "      <td>Focus</td>\n",
       "      <td>2007</td>\n",
       "      <td>5000.00</td>\n",
       "    </tr>\n",
       "    <tr>\n",
       "      <th>92</th>\n",
       "      <td>Ford</td>\n",
       "      <td>Focus</td>\n",
       "      <td>2022</td>\n",
       "      <td>35918.10</td>\n",
       "    </tr>\n",
       "    <tr>\n",
       "      <th>93</th>\n",
       "      <td>Ford</td>\n",
       "      <td>Fiesta</td>\n",
       "      <td>2018</td>\n",
       "      <td>34799.42</td>\n",
       "    </tr>\n",
       "    <tr>\n",
       "      <th>95</th>\n",
       "      <td>Ford</td>\n",
       "      <td>Fiesta</td>\n",
       "      <td>2007</td>\n",
       "      <td>5000.00</td>\n",
       "    </tr>\n",
       "  </tbody>\n",
       "</table>\n",
       "</div>"
      ]
     },
     "execution_count": 206,
     "metadata": {},
     "output_type": "execute_result"
    }
   ],
   "execution_count": 206
  },
  {
   "cell_type": "markdown",
   "source": [
    "## **6.2. FILTERING VEHICLES BY A LIST OF MANUFACTURERS**"
   ],
   "metadata": {
    "id": "T9Pk-XWoWETu"
   }
  },
  {
   "cell_type": "code",
   "source": [
    "filters = ['Toyota', 'Honda', 'Ford']"
   ],
   "metadata": {
    "id": "8u09VbToVOln",
    "ExecuteTime": {
     "end_time": "2025-10-12T18:20:48.378908Z",
     "start_time": "2025-10-12T18:20:48.375311Z"
    }
   },
   "outputs": [],
   "execution_count": 207
  },
  {
   "cell_type": "markdown",
   "source": [
    "### **6.2.1. MANUFACTURERS THAT ARE NOT IN FILTERS**"
   ],
   "metadata": {
    "id": "bs81QDj3XBsp"
   }
  },
  {
   "cell_type": "code",
   "source": [
    "# SELECT * FROM data WHERE filters NOT IN montadora\n",
    "data.query(expr='@filters not in montadora')"
   ],
   "metadata": {
    "colab": {
     "base_uri": "https://localhost:8080/",
     "height": 1000
    },
    "id": "iItxGDzfWSUS",
    "outputId": "61f8439d-ed08-4247-fb85-cd118022c1fe",
    "ExecuteTime": {
     "end_time": "2025-10-12T18:20:48.397654Z",
     "start_time": "2025-10-12T18:20:48.389853Z"
    }
   },
   "outputs": [
    {
     "data": {
      "text/plain": [
       "     montadora   modelo  ano_fabricacao  valor_mercado\n",
       "1   Volkswagen     Polo            2010        5000.00\n",
       "2    Chevrolet    Corsa            2017        9944.40\n",
       "4    Chevrolet    Cruze            2018       57020.67\n",
       "5    Chevrolet      S10            2010           0.00\n",
       "7    Chevrolet     Onix            2022       26414.68\n",
       "8    Chevrolet      S10            2006        5000.00\n",
       "10   Chevrolet   Prisma            2016       21412.44\n",
       "11  Volkswagen      Fox            2007        5000.00\n",
       "13   Chevrolet    Corsa            2016       26774.33\n",
       "16  Volkswagen     Polo            2007        5000.00\n",
       "18   Chevrolet   Prisma            2008        5000.00\n",
       "19   Chevrolet     Onix            2009        5000.00\n",
       "21  Volkswagen      Gol            2007        5000.00\n",
       "22  Volkswagen     Polo            2019       19361.37\n",
       "24   Chevrolet     Onix            2007        5000.00\n",
       "28  Volkswagen     Polo            2021       66040.26\n",
       "30  Volkswagen  T-Cross            2016       19268.95\n",
       "31   Chevrolet      S10            2012        5000.00\n",
       "33   Chevrolet     Onix            2015       16753.28\n",
       "34  Volkswagen    Jetta            2017       23837.63\n",
       "39   Chevrolet    Cruze            2005        5000.00\n",
       "41   Chevrolet    Corsa            2017       11902.17\n",
       "43   Chevrolet    Corsa            2006        5000.00\n",
       "47  Volkswagen  T-Cross            2022       85890.48\n",
       "48  Volkswagen  T-Cross            2020       20657.97\n",
       "49   Chevrolet    Cruze            2010        5000.00\n",
       "50  Volkswagen  T-Cross            2010        5000.00\n",
       "51   Chevrolet    Corsa            2019       47232.53\n",
       "53  Volkswagen      Fox            2006        5000.00\n",
       "56  Volkswagen      Gol            2020       69455.49\n",
       "57  Volkswagen  T-Cross            2008        5000.00\n",
       "58  Volkswagen    Jetta            2014        5000.00\n",
       "59  Volkswagen      Fox            2005        5000.00\n",
       "61  Volkswagen      Fox            2006        5000.00\n",
       "62   Chevrolet    Corsa            2005        5000.00\n",
       "64  Volkswagen  T-Cross            2017        6288.44\n",
       "67  Volkswagen    Jetta            2020       17002.51\n",
       "69  Volkswagen  T-Cross            2012        5000.00\n",
       "72  Volkswagen    Jetta            2020       38300.03\n",
       "86  Volkswagen     Polo            2008        5000.00\n",
       "88  Volkswagen      Gol            2021       66525.17\n",
       "89   Chevrolet   Prisma            2007        5000.00\n",
       "94  Volkswagen     Polo            2014       13507.98\n",
       "97  Volkswagen    Jetta            2019       32496.56\n",
       "98   Chevrolet    Corsa            2022       56143.58"
      ],
      "text/html": [
       "<div>\n",
       "<style scoped>\n",
       "    .dataframe tbody tr th:only-of-type {\n",
       "        vertical-align: middle;\n",
       "    }\n",
       "\n",
       "    .dataframe tbody tr th {\n",
       "        vertical-align: top;\n",
       "    }\n",
       "\n",
       "    .dataframe thead th {\n",
       "        text-align: right;\n",
       "    }\n",
       "</style>\n",
       "<table border=\"1\" class=\"dataframe\">\n",
       "  <thead>\n",
       "    <tr style=\"text-align: right;\">\n",
       "      <th></th>\n",
       "      <th>montadora</th>\n",
       "      <th>modelo</th>\n",
       "      <th>ano_fabricacao</th>\n",
       "      <th>valor_mercado</th>\n",
       "    </tr>\n",
       "  </thead>\n",
       "  <tbody>\n",
       "    <tr>\n",
       "      <th>1</th>\n",
       "      <td>Volkswagen</td>\n",
       "      <td>Polo</td>\n",
       "      <td>2010</td>\n",
       "      <td>5000.00</td>\n",
       "    </tr>\n",
       "    <tr>\n",
       "      <th>2</th>\n",
       "      <td>Chevrolet</td>\n",
       "      <td>Corsa</td>\n",
       "      <td>2017</td>\n",
       "      <td>9944.40</td>\n",
       "    </tr>\n",
       "    <tr>\n",
       "      <th>4</th>\n",
       "      <td>Chevrolet</td>\n",
       "      <td>Cruze</td>\n",
       "      <td>2018</td>\n",
       "      <td>57020.67</td>\n",
       "    </tr>\n",
       "    <tr>\n",
       "      <th>5</th>\n",
       "      <td>Chevrolet</td>\n",
       "      <td>S10</td>\n",
       "      <td>2010</td>\n",
       "      <td>0.00</td>\n",
       "    </tr>\n",
       "    <tr>\n",
       "      <th>7</th>\n",
       "      <td>Chevrolet</td>\n",
       "      <td>Onix</td>\n",
       "      <td>2022</td>\n",
       "      <td>26414.68</td>\n",
       "    </tr>\n",
       "    <tr>\n",
       "      <th>8</th>\n",
       "      <td>Chevrolet</td>\n",
       "      <td>S10</td>\n",
       "      <td>2006</td>\n",
       "      <td>5000.00</td>\n",
       "    </tr>\n",
       "    <tr>\n",
       "      <th>10</th>\n",
       "      <td>Chevrolet</td>\n",
       "      <td>Prisma</td>\n",
       "      <td>2016</td>\n",
       "      <td>21412.44</td>\n",
       "    </tr>\n",
       "    <tr>\n",
       "      <th>11</th>\n",
       "      <td>Volkswagen</td>\n",
       "      <td>Fox</td>\n",
       "      <td>2007</td>\n",
       "      <td>5000.00</td>\n",
       "    </tr>\n",
       "    <tr>\n",
       "      <th>13</th>\n",
       "      <td>Chevrolet</td>\n",
       "      <td>Corsa</td>\n",
       "      <td>2016</td>\n",
       "      <td>26774.33</td>\n",
       "    </tr>\n",
       "    <tr>\n",
       "      <th>16</th>\n",
       "      <td>Volkswagen</td>\n",
       "      <td>Polo</td>\n",
       "      <td>2007</td>\n",
       "      <td>5000.00</td>\n",
       "    </tr>\n",
       "    <tr>\n",
       "      <th>18</th>\n",
       "      <td>Chevrolet</td>\n",
       "      <td>Prisma</td>\n",
       "      <td>2008</td>\n",
       "      <td>5000.00</td>\n",
       "    </tr>\n",
       "    <tr>\n",
       "      <th>19</th>\n",
       "      <td>Chevrolet</td>\n",
       "      <td>Onix</td>\n",
       "      <td>2009</td>\n",
       "      <td>5000.00</td>\n",
       "    </tr>\n",
       "    <tr>\n",
       "      <th>21</th>\n",
       "      <td>Volkswagen</td>\n",
       "      <td>Gol</td>\n",
       "      <td>2007</td>\n",
       "      <td>5000.00</td>\n",
       "    </tr>\n",
       "    <tr>\n",
       "      <th>22</th>\n",
       "      <td>Volkswagen</td>\n",
       "      <td>Polo</td>\n",
       "      <td>2019</td>\n",
       "      <td>19361.37</td>\n",
       "    </tr>\n",
       "    <tr>\n",
       "      <th>24</th>\n",
       "      <td>Chevrolet</td>\n",
       "      <td>Onix</td>\n",
       "      <td>2007</td>\n",
       "      <td>5000.00</td>\n",
       "    </tr>\n",
       "    <tr>\n",
       "      <th>28</th>\n",
       "      <td>Volkswagen</td>\n",
       "      <td>Polo</td>\n",
       "      <td>2021</td>\n",
       "      <td>66040.26</td>\n",
       "    </tr>\n",
       "    <tr>\n",
       "      <th>30</th>\n",
       "      <td>Volkswagen</td>\n",
       "      <td>T-Cross</td>\n",
       "      <td>2016</td>\n",
       "      <td>19268.95</td>\n",
       "    </tr>\n",
       "    <tr>\n",
       "      <th>31</th>\n",
       "      <td>Chevrolet</td>\n",
       "      <td>S10</td>\n",
       "      <td>2012</td>\n",
       "      <td>5000.00</td>\n",
       "    </tr>\n",
       "    <tr>\n",
       "      <th>33</th>\n",
       "      <td>Chevrolet</td>\n",
       "      <td>Onix</td>\n",
       "      <td>2015</td>\n",
       "      <td>16753.28</td>\n",
       "    </tr>\n",
       "    <tr>\n",
       "      <th>34</th>\n",
       "      <td>Volkswagen</td>\n",
       "      <td>Jetta</td>\n",
       "      <td>2017</td>\n",
       "      <td>23837.63</td>\n",
       "    </tr>\n",
       "    <tr>\n",
       "      <th>39</th>\n",
       "      <td>Chevrolet</td>\n",
       "      <td>Cruze</td>\n",
       "      <td>2005</td>\n",
       "      <td>5000.00</td>\n",
       "    </tr>\n",
       "    <tr>\n",
       "      <th>41</th>\n",
       "      <td>Chevrolet</td>\n",
       "      <td>Corsa</td>\n",
       "      <td>2017</td>\n",
       "      <td>11902.17</td>\n",
       "    </tr>\n",
       "    <tr>\n",
       "      <th>43</th>\n",
       "      <td>Chevrolet</td>\n",
       "      <td>Corsa</td>\n",
       "      <td>2006</td>\n",
       "      <td>5000.00</td>\n",
       "    </tr>\n",
       "    <tr>\n",
       "      <th>47</th>\n",
       "      <td>Volkswagen</td>\n",
       "      <td>T-Cross</td>\n",
       "      <td>2022</td>\n",
       "      <td>85890.48</td>\n",
       "    </tr>\n",
       "    <tr>\n",
       "      <th>48</th>\n",
       "      <td>Volkswagen</td>\n",
       "      <td>T-Cross</td>\n",
       "      <td>2020</td>\n",
       "      <td>20657.97</td>\n",
       "    </tr>\n",
       "    <tr>\n",
       "      <th>49</th>\n",
       "      <td>Chevrolet</td>\n",
       "      <td>Cruze</td>\n",
       "      <td>2010</td>\n",
       "      <td>5000.00</td>\n",
       "    </tr>\n",
       "    <tr>\n",
       "      <th>50</th>\n",
       "      <td>Volkswagen</td>\n",
       "      <td>T-Cross</td>\n",
       "      <td>2010</td>\n",
       "      <td>5000.00</td>\n",
       "    </tr>\n",
       "    <tr>\n",
       "      <th>51</th>\n",
       "      <td>Chevrolet</td>\n",
       "      <td>Corsa</td>\n",
       "      <td>2019</td>\n",
       "      <td>47232.53</td>\n",
       "    </tr>\n",
       "    <tr>\n",
       "      <th>53</th>\n",
       "      <td>Volkswagen</td>\n",
       "      <td>Fox</td>\n",
       "      <td>2006</td>\n",
       "      <td>5000.00</td>\n",
       "    </tr>\n",
       "    <tr>\n",
       "      <th>56</th>\n",
       "      <td>Volkswagen</td>\n",
       "      <td>Gol</td>\n",
       "      <td>2020</td>\n",
       "      <td>69455.49</td>\n",
       "    </tr>\n",
       "    <tr>\n",
       "      <th>57</th>\n",
       "      <td>Volkswagen</td>\n",
       "      <td>T-Cross</td>\n",
       "      <td>2008</td>\n",
       "      <td>5000.00</td>\n",
       "    </tr>\n",
       "    <tr>\n",
       "      <th>58</th>\n",
       "      <td>Volkswagen</td>\n",
       "      <td>Jetta</td>\n",
       "      <td>2014</td>\n",
       "      <td>5000.00</td>\n",
       "    </tr>\n",
       "    <tr>\n",
       "      <th>59</th>\n",
       "      <td>Volkswagen</td>\n",
       "      <td>Fox</td>\n",
       "      <td>2005</td>\n",
       "      <td>5000.00</td>\n",
       "    </tr>\n",
       "    <tr>\n",
       "      <th>61</th>\n",
       "      <td>Volkswagen</td>\n",
       "      <td>Fox</td>\n",
       "      <td>2006</td>\n",
       "      <td>5000.00</td>\n",
       "    </tr>\n",
       "    <tr>\n",
       "      <th>62</th>\n",
       "      <td>Chevrolet</td>\n",
       "      <td>Corsa</td>\n",
       "      <td>2005</td>\n",
       "      <td>5000.00</td>\n",
       "    </tr>\n",
       "    <tr>\n",
       "      <th>64</th>\n",
       "      <td>Volkswagen</td>\n",
       "      <td>T-Cross</td>\n",
       "      <td>2017</td>\n",
       "      <td>6288.44</td>\n",
       "    </tr>\n",
       "    <tr>\n",
       "      <th>67</th>\n",
       "      <td>Volkswagen</td>\n",
       "      <td>Jetta</td>\n",
       "      <td>2020</td>\n",
       "      <td>17002.51</td>\n",
       "    </tr>\n",
       "    <tr>\n",
       "      <th>69</th>\n",
       "      <td>Volkswagen</td>\n",
       "      <td>T-Cross</td>\n",
       "      <td>2012</td>\n",
       "      <td>5000.00</td>\n",
       "    </tr>\n",
       "    <tr>\n",
       "      <th>72</th>\n",
       "      <td>Volkswagen</td>\n",
       "      <td>Jetta</td>\n",
       "      <td>2020</td>\n",
       "      <td>38300.03</td>\n",
       "    </tr>\n",
       "    <tr>\n",
       "      <th>86</th>\n",
       "      <td>Volkswagen</td>\n",
       "      <td>Polo</td>\n",
       "      <td>2008</td>\n",
       "      <td>5000.00</td>\n",
       "    </tr>\n",
       "    <tr>\n",
       "      <th>88</th>\n",
       "      <td>Volkswagen</td>\n",
       "      <td>Gol</td>\n",
       "      <td>2021</td>\n",
       "      <td>66525.17</td>\n",
       "    </tr>\n",
       "    <tr>\n",
       "      <th>89</th>\n",
       "      <td>Chevrolet</td>\n",
       "      <td>Prisma</td>\n",
       "      <td>2007</td>\n",
       "      <td>5000.00</td>\n",
       "    </tr>\n",
       "    <tr>\n",
       "      <th>94</th>\n",
       "      <td>Volkswagen</td>\n",
       "      <td>Polo</td>\n",
       "      <td>2014</td>\n",
       "      <td>13507.98</td>\n",
       "    </tr>\n",
       "    <tr>\n",
       "      <th>97</th>\n",
       "      <td>Volkswagen</td>\n",
       "      <td>Jetta</td>\n",
       "      <td>2019</td>\n",
       "      <td>32496.56</td>\n",
       "    </tr>\n",
       "    <tr>\n",
       "      <th>98</th>\n",
       "      <td>Chevrolet</td>\n",
       "      <td>Corsa</td>\n",
       "      <td>2022</td>\n",
       "      <td>56143.58</td>\n",
       "    </tr>\n",
       "  </tbody>\n",
       "</table>\n",
       "</div>"
      ]
     },
     "execution_count": 208,
     "metadata": {},
     "output_type": "execute_result"
    }
   ],
   "execution_count": 208
  },
  {
   "cell_type": "markdown",
   "source": [
    "### **6.2.2. MANUFACTURERS THAT ARE IN FILTERS**"
   ],
   "metadata": {
    "id": "ntB6SoOUXM0M"
   }
  },
  {
   "cell_type": "markdown",
   "source": [
    "#### **6.2.2.1. DISPLAY RESULTS (IN DATAFRAME)**"
   ],
   "metadata": {
    "id": "KiODo7iEX2DG"
   }
  },
  {
   "cell_type": "code",
   "source": [
    "# SELECT * FROM data WHERE filters IN montadora\n",
    "data_search = data.query(expr='@filters in montadora')\n",
    "data_search"
   ],
   "metadata": {
    "colab": {
     "base_uri": "https://localhost:8080/",
     "height": 1000
    },
    "id": "mJ4X2kDqVoxG",
    "outputId": "8e9de497-7108-451f-bb53-78eb36cfceb6",
    "ExecuteTime": {
     "end_time": "2025-10-12T18:20:48.419548Z",
     "start_time": "2025-10-12T18:20:48.407666Z"
    }
   },
   "outputs": [
    {
     "data": {
      "text/plain": [
       "   montadora    modelo  ano_fabricacao  valor_mercado\n",
       "0       Ford     Focus            2017       62399.38\n",
       "3     Toyota     Yaris            2012        5000.00\n",
       "6      Honda      WR-V            2014        5000.00\n",
       "9      Honda      WR-V            2010        5000.00\n",
       "12      Ford        Ka            2021       36823.04\n",
       "14     Honda      HR-V            2015        7386.78\n",
       "15      Ford     Focus            2008        5000.00\n",
       "17    Toyota     Yaris            2016       11074.95\n",
       "20     Honda       Fit            2015        5000.00\n",
       "23     Honda      WR-V            2023           0.00\n",
       "25    Toyota     Etios            2022       86044.60\n",
       "26      Ford        Ka            2017       24748.14\n",
       "27    Toyota     Etios            2010        5000.00\n",
       "29    Toyota     Hilux            2020       42587.73\n",
       "32     Honda      City            2023       45806.62\n",
       "35     Honda      WR-V            2011           0.00\n",
       "36    Toyota     Hilux            2013        5000.00\n",
       "37    Toyota      RAV4            2012        5000.00\n",
       "38      Ford        Ka            2010        5000.00\n",
       "40      Ford    Fusion            2009        8246.02\n",
       "42    Toyota   Corolla            2022       46634.89\n",
       "44     Honda      City            2015       23749.39\n",
       "45      Ford    Fusion            2006        5000.00\n",
       "46      Ford        Ka            2019       29725.86\n",
       "52    Toyota     Etios            2019       25266.41\n",
       "54      Ford  EcoSport            2013        5000.00\n",
       "55    Toyota     Etios            2010        5000.00\n",
       "60     Honda      City            2023       74827.34\n",
       "63     Honda      HR-V            2011        5000.00\n",
       "65      Ford    Fusion            2011        5000.00\n",
       "66    Toyota     Yaris            2012        5000.00\n",
       "68      Ford    Fiesta            2008        5000.00\n",
       "70    Toyota     Etios            2013        5000.00\n",
       "71     Honda      City            2012       17679.72\n",
       "73      Ford    Fusion            2021       56785.61\n",
       "74     Honda      City            2010        5000.00\n",
       "75     Honda      HR-V            2007        5000.00\n",
       "76    Toyota     Yaris            2005        5000.00\n",
       "77    Toyota   Corolla            2009        5000.00\n",
       "78    Toyota     Hilux            2022       94675.89\n",
       "79    Toyota      RAV4            2018        9135.74\n",
       "80    Toyota     Hilux            2015        5000.00\n",
       "81    Toyota     Hilux            2009        5000.00\n",
       "82    Toyota     Etios            2005        5000.00\n",
       "83     Honda      HR-V            2022       56433.30\n",
       "84      Ford     Focus            2007        5000.00\n",
       "85     Honda      WR-V            2012       10480.47\n",
       "87    Toyota      RAV4            2022       24113.48\n",
       "90    Toyota     Hilux            2022       42740.59\n",
       "91    Toyota     Yaris            2018        7154.62\n",
       "92      Ford     Focus            2022       35918.10\n",
       "93      Ford    Fiesta            2018       34799.42\n",
       "95      Ford    Fiesta            2007        5000.00\n",
       "96     Honda      HR-V            2012        5000.00\n",
       "99    Toyota      RAV4            2009        7970.51"
      ],
      "text/html": [
       "<div>\n",
       "<style scoped>\n",
       "    .dataframe tbody tr th:only-of-type {\n",
       "        vertical-align: middle;\n",
       "    }\n",
       "\n",
       "    .dataframe tbody tr th {\n",
       "        vertical-align: top;\n",
       "    }\n",
       "\n",
       "    .dataframe thead th {\n",
       "        text-align: right;\n",
       "    }\n",
       "</style>\n",
       "<table border=\"1\" class=\"dataframe\">\n",
       "  <thead>\n",
       "    <tr style=\"text-align: right;\">\n",
       "      <th></th>\n",
       "      <th>montadora</th>\n",
       "      <th>modelo</th>\n",
       "      <th>ano_fabricacao</th>\n",
       "      <th>valor_mercado</th>\n",
       "    </tr>\n",
       "  </thead>\n",
       "  <tbody>\n",
       "    <tr>\n",
       "      <th>0</th>\n",
       "      <td>Ford</td>\n",
       "      <td>Focus</td>\n",
       "      <td>2017</td>\n",
       "      <td>62399.38</td>\n",
       "    </tr>\n",
       "    <tr>\n",
       "      <th>3</th>\n",
       "      <td>Toyota</td>\n",
       "      <td>Yaris</td>\n",
       "      <td>2012</td>\n",
       "      <td>5000.00</td>\n",
       "    </tr>\n",
       "    <tr>\n",
       "      <th>6</th>\n",
       "      <td>Honda</td>\n",
       "      <td>WR-V</td>\n",
       "      <td>2014</td>\n",
       "      <td>5000.00</td>\n",
       "    </tr>\n",
       "    <tr>\n",
       "      <th>9</th>\n",
       "      <td>Honda</td>\n",
       "      <td>WR-V</td>\n",
       "      <td>2010</td>\n",
       "      <td>5000.00</td>\n",
       "    </tr>\n",
       "    <tr>\n",
       "      <th>12</th>\n",
       "      <td>Ford</td>\n",
       "      <td>Ka</td>\n",
       "      <td>2021</td>\n",
       "      <td>36823.04</td>\n",
       "    </tr>\n",
       "    <tr>\n",
       "      <th>14</th>\n",
       "      <td>Honda</td>\n",
       "      <td>HR-V</td>\n",
       "      <td>2015</td>\n",
       "      <td>7386.78</td>\n",
       "    </tr>\n",
       "    <tr>\n",
       "      <th>15</th>\n",
       "      <td>Ford</td>\n",
       "      <td>Focus</td>\n",
       "      <td>2008</td>\n",
       "      <td>5000.00</td>\n",
       "    </tr>\n",
       "    <tr>\n",
       "      <th>17</th>\n",
       "      <td>Toyota</td>\n",
       "      <td>Yaris</td>\n",
       "      <td>2016</td>\n",
       "      <td>11074.95</td>\n",
       "    </tr>\n",
       "    <tr>\n",
       "      <th>20</th>\n",
       "      <td>Honda</td>\n",
       "      <td>Fit</td>\n",
       "      <td>2015</td>\n",
       "      <td>5000.00</td>\n",
       "    </tr>\n",
       "    <tr>\n",
       "      <th>23</th>\n",
       "      <td>Honda</td>\n",
       "      <td>WR-V</td>\n",
       "      <td>2023</td>\n",
       "      <td>0.00</td>\n",
       "    </tr>\n",
       "    <tr>\n",
       "      <th>25</th>\n",
       "      <td>Toyota</td>\n",
       "      <td>Etios</td>\n",
       "      <td>2022</td>\n",
       "      <td>86044.60</td>\n",
       "    </tr>\n",
       "    <tr>\n",
       "      <th>26</th>\n",
       "      <td>Ford</td>\n",
       "      <td>Ka</td>\n",
       "      <td>2017</td>\n",
       "      <td>24748.14</td>\n",
       "    </tr>\n",
       "    <tr>\n",
       "      <th>27</th>\n",
       "      <td>Toyota</td>\n",
       "      <td>Etios</td>\n",
       "      <td>2010</td>\n",
       "      <td>5000.00</td>\n",
       "    </tr>\n",
       "    <tr>\n",
       "      <th>29</th>\n",
       "      <td>Toyota</td>\n",
       "      <td>Hilux</td>\n",
       "      <td>2020</td>\n",
       "      <td>42587.73</td>\n",
       "    </tr>\n",
       "    <tr>\n",
       "      <th>32</th>\n",
       "      <td>Honda</td>\n",
       "      <td>City</td>\n",
       "      <td>2023</td>\n",
       "      <td>45806.62</td>\n",
       "    </tr>\n",
       "    <tr>\n",
       "      <th>35</th>\n",
       "      <td>Honda</td>\n",
       "      <td>WR-V</td>\n",
       "      <td>2011</td>\n",
       "      <td>0.00</td>\n",
       "    </tr>\n",
       "    <tr>\n",
       "      <th>36</th>\n",
       "      <td>Toyota</td>\n",
       "      <td>Hilux</td>\n",
       "      <td>2013</td>\n",
       "      <td>5000.00</td>\n",
       "    </tr>\n",
       "    <tr>\n",
       "      <th>37</th>\n",
       "      <td>Toyota</td>\n",
       "      <td>RAV4</td>\n",
       "      <td>2012</td>\n",
       "      <td>5000.00</td>\n",
       "    </tr>\n",
       "    <tr>\n",
       "      <th>38</th>\n",
       "      <td>Ford</td>\n",
       "      <td>Ka</td>\n",
       "      <td>2010</td>\n",
       "      <td>5000.00</td>\n",
       "    </tr>\n",
       "    <tr>\n",
       "      <th>40</th>\n",
       "      <td>Ford</td>\n",
       "      <td>Fusion</td>\n",
       "      <td>2009</td>\n",
       "      <td>8246.02</td>\n",
       "    </tr>\n",
       "    <tr>\n",
       "      <th>42</th>\n",
       "      <td>Toyota</td>\n",
       "      <td>Corolla</td>\n",
       "      <td>2022</td>\n",
       "      <td>46634.89</td>\n",
       "    </tr>\n",
       "    <tr>\n",
       "      <th>44</th>\n",
       "      <td>Honda</td>\n",
       "      <td>City</td>\n",
       "      <td>2015</td>\n",
       "      <td>23749.39</td>\n",
       "    </tr>\n",
       "    <tr>\n",
       "      <th>45</th>\n",
       "      <td>Ford</td>\n",
       "      <td>Fusion</td>\n",
       "      <td>2006</td>\n",
       "      <td>5000.00</td>\n",
       "    </tr>\n",
       "    <tr>\n",
       "      <th>46</th>\n",
       "      <td>Ford</td>\n",
       "      <td>Ka</td>\n",
       "      <td>2019</td>\n",
       "      <td>29725.86</td>\n",
       "    </tr>\n",
       "    <tr>\n",
       "      <th>52</th>\n",
       "      <td>Toyota</td>\n",
       "      <td>Etios</td>\n",
       "      <td>2019</td>\n",
       "      <td>25266.41</td>\n",
       "    </tr>\n",
       "    <tr>\n",
       "      <th>54</th>\n",
       "      <td>Ford</td>\n",
       "      <td>EcoSport</td>\n",
       "      <td>2013</td>\n",
       "      <td>5000.00</td>\n",
       "    </tr>\n",
       "    <tr>\n",
       "      <th>55</th>\n",
       "      <td>Toyota</td>\n",
       "      <td>Etios</td>\n",
       "      <td>2010</td>\n",
       "      <td>5000.00</td>\n",
       "    </tr>\n",
       "    <tr>\n",
       "      <th>60</th>\n",
       "      <td>Honda</td>\n",
       "      <td>City</td>\n",
       "      <td>2023</td>\n",
       "      <td>74827.34</td>\n",
       "    </tr>\n",
       "    <tr>\n",
       "      <th>63</th>\n",
       "      <td>Honda</td>\n",
       "      <td>HR-V</td>\n",
       "      <td>2011</td>\n",
       "      <td>5000.00</td>\n",
       "    </tr>\n",
       "    <tr>\n",
       "      <th>65</th>\n",
       "      <td>Ford</td>\n",
       "      <td>Fusion</td>\n",
       "      <td>2011</td>\n",
       "      <td>5000.00</td>\n",
       "    </tr>\n",
       "    <tr>\n",
       "      <th>66</th>\n",
       "      <td>Toyota</td>\n",
       "      <td>Yaris</td>\n",
       "      <td>2012</td>\n",
       "      <td>5000.00</td>\n",
       "    </tr>\n",
       "    <tr>\n",
       "      <th>68</th>\n",
       "      <td>Ford</td>\n",
       "      <td>Fiesta</td>\n",
       "      <td>2008</td>\n",
       "      <td>5000.00</td>\n",
       "    </tr>\n",
       "    <tr>\n",
       "      <th>70</th>\n",
       "      <td>Toyota</td>\n",
       "      <td>Etios</td>\n",
       "      <td>2013</td>\n",
       "      <td>5000.00</td>\n",
       "    </tr>\n",
       "    <tr>\n",
       "      <th>71</th>\n",
       "      <td>Honda</td>\n",
       "      <td>City</td>\n",
       "      <td>2012</td>\n",
       "      <td>17679.72</td>\n",
       "    </tr>\n",
       "    <tr>\n",
       "      <th>73</th>\n",
       "      <td>Ford</td>\n",
       "      <td>Fusion</td>\n",
       "      <td>2021</td>\n",
       "      <td>56785.61</td>\n",
       "    </tr>\n",
       "    <tr>\n",
       "      <th>74</th>\n",
       "      <td>Honda</td>\n",
       "      <td>City</td>\n",
       "      <td>2010</td>\n",
       "      <td>5000.00</td>\n",
       "    </tr>\n",
       "    <tr>\n",
       "      <th>75</th>\n",
       "      <td>Honda</td>\n",
       "      <td>HR-V</td>\n",
       "      <td>2007</td>\n",
       "      <td>5000.00</td>\n",
       "    </tr>\n",
       "    <tr>\n",
       "      <th>76</th>\n",
       "      <td>Toyota</td>\n",
       "      <td>Yaris</td>\n",
       "      <td>2005</td>\n",
       "      <td>5000.00</td>\n",
       "    </tr>\n",
       "    <tr>\n",
       "      <th>77</th>\n",
       "      <td>Toyota</td>\n",
       "      <td>Corolla</td>\n",
       "      <td>2009</td>\n",
       "      <td>5000.00</td>\n",
       "    </tr>\n",
       "    <tr>\n",
       "      <th>78</th>\n",
       "      <td>Toyota</td>\n",
       "      <td>Hilux</td>\n",
       "      <td>2022</td>\n",
       "      <td>94675.89</td>\n",
       "    </tr>\n",
       "    <tr>\n",
       "      <th>79</th>\n",
       "      <td>Toyota</td>\n",
       "      <td>RAV4</td>\n",
       "      <td>2018</td>\n",
       "      <td>9135.74</td>\n",
       "    </tr>\n",
       "    <tr>\n",
       "      <th>80</th>\n",
       "      <td>Toyota</td>\n",
       "      <td>Hilux</td>\n",
       "      <td>2015</td>\n",
       "      <td>5000.00</td>\n",
       "    </tr>\n",
       "    <tr>\n",
       "      <th>81</th>\n",
       "      <td>Toyota</td>\n",
       "      <td>Hilux</td>\n",
       "      <td>2009</td>\n",
       "      <td>5000.00</td>\n",
       "    </tr>\n",
       "    <tr>\n",
       "      <th>82</th>\n",
       "      <td>Toyota</td>\n",
       "      <td>Etios</td>\n",
       "      <td>2005</td>\n",
       "      <td>5000.00</td>\n",
       "    </tr>\n",
       "    <tr>\n",
       "      <th>83</th>\n",
       "      <td>Honda</td>\n",
       "      <td>HR-V</td>\n",
       "      <td>2022</td>\n",
       "      <td>56433.30</td>\n",
       "    </tr>\n",
       "    <tr>\n",
       "      <th>84</th>\n",
       "      <td>Ford</td>\n",
       "      <td>Focus</td>\n",
       "      <td>2007</td>\n",
       "      <td>5000.00</td>\n",
       "    </tr>\n",
       "    <tr>\n",
       "      <th>85</th>\n",
       "      <td>Honda</td>\n",
       "      <td>WR-V</td>\n",
       "      <td>2012</td>\n",
       "      <td>10480.47</td>\n",
       "    </tr>\n",
       "    <tr>\n",
       "      <th>87</th>\n",
       "      <td>Toyota</td>\n",
       "      <td>RAV4</td>\n",
       "      <td>2022</td>\n",
       "      <td>24113.48</td>\n",
       "    </tr>\n",
       "    <tr>\n",
       "      <th>90</th>\n",
       "      <td>Toyota</td>\n",
       "      <td>Hilux</td>\n",
       "      <td>2022</td>\n",
       "      <td>42740.59</td>\n",
       "    </tr>\n",
       "    <tr>\n",
       "      <th>91</th>\n",
       "      <td>Toyota</td>\n",
       "      <td>Yaris</td>\n",
       "      <td>2018</td>\n",
       "      <td>7154.62</td>\n",
       "    </tr>\n",
       "    <tr>\n",
       "      <th>92</th>\n",
       "      <td>Ford</td>\n",
       "      <td>Focus</td>\n",
       "      <td>2022</td>\n",
       "      <td>35918.10</td>\n",
       "    </tr>\n",
       "    <tr>\n",
       "      <th>93</th>\n",
       "      <td>Ford</td>\n",
       "      <td>Fiesta</td>\n",
       "      <td>2018</td>\n",
       "      <td>34799.42</td>\n",
       "    </tr>\n",
       "    <tr>\n",
       "      <th>95</th>\n",
       "      <td>Ford</td>\n",
       "      <td>Fiesta</td>\n",
       "      <td>2007</td>\n",
       "      <td>5000.00</td>\n",
       "    </tr>\n",
       "    <tr>\n",
       "      <th>96</th>\n",
       "      <td>Honda</td>\n",
       "      <td>HR-V</td>\n",
       "      <td>2012</td>\n",
       "      <td>5000.00</td>\n",
       "    </tr>\n",
       "    <tr>\n",
       "      <th>99</th>\n",
       "      <td>Toyota</td>\n",
       "      <td>RAV4</td>\n",
       "      <td>2009</td>\n",
       "      <td>7970.51</td>\n",
       "    </tr>\n",
       "  </tbody>\n",
       "</table>\n",
       "</div>"
      ]
     },
     "execution_count": 209,
     "metadata": {},
     "output_type": "execute_result"
    }
   ],
   "execution_count": 209
  },
  {
   "cell_type": "markdown",
   "source": [
    "#### **6.2.2.2. PLOT RESULTS**"
   ],
   "metadata": {
    "id": "npwSiNmzYAhd"
   }
  },
  {
   "cell_type": "code",
   "source": [
    "data_spec_manufacturers = data_search.groupby('montadora')[['valor_mercado']].mean().sort_values(by='valor_mercado', ascending=True)\n",
    "data_spec_manufacturers.plot(kind='barh', figsize=(10,5), color='red')"
   ],
   "metadata": {
    "colab": {
     "base_uri": "https://localhost:8080/",
     "height": 462
    },
    "id": "-MHfikwpXSBP",
    "outputId": "a25389fe-3a09-4c1d-bbfb-b5fd87ca3305",
    "ExecuteTime": {
     "end_time": "2025-10-12T18:20:48.515534Z",
     "start_time": "2025-10-12T18:20:48.440856Z"
    }
   },
   "outputs": [
    {
     "data": {
      "text/plain": [
       "<Axes: ylabel='montadora'>"
      ]
     },
     "execution_count": 210,
     "metadata": {},
     "output_type": "execute_result"
    },
    {
     "data": {
      "text/plain": [
       "<Figure size 1000x500 with 1 Axes>"
      ],
      "image/png": "[encoded data removed]"
     },
     "metadata": {},
     "output_type": "display_data",
     "jetTransient": {
      "display_id": null
     }
    }
   ],
   "execution_count": 210
  },
  {
   "cell_type": "markdown",
   "source": [
    "#### **6.2.2.3. DISPLAY STATISTICS**"
   ],
   "metadata": {
    "id": "5AhvFjFPYK0t"
   }
  },
  {
   "cell_type": "code",
   "source": [
    "data_search.montadora.value_counts(normalize=True)"
   ],
   "metadata": {
    "colab": {
     "base_uri": "https://localhost:8080/",
     "height": 209
    },
    "id": "lb6sh2sBYQyK",
    "outputId": "45d4a0db-0776-4722-a1bd-8685a052bfdf",
    "ExecuteTime": {
     "end_time": "2025-10-12T18:20:48.531638Z",
     "start_time": "2025-10-12T18:20:48.526578Z"
    }
   },
   "outputs": [
    {
     "data": {
      "text/plain": [
       "montadora\n",
       "Toyota    0.418182\n",
       "Ford      0.290909\n",
       "Honda     0.290909\n",
       "Name: proportion, dtype: float64"
      ]
     },
     "execution_count": 211,
     "metadata": {},
     "output_type": "execute_result"
    }
   ],
   "execution_count": 211
  },
  {
   "cell_type": "markdown",
   "source": [
    "## **6.3. VEHICLE STRATIFICATION BY PRODUCTION YEAR AND VALUATION (PRICE)**"
   ],
   "metadata": {
    "id": "JtjvS5kjUgEX"
   }
  },
  {
   "cell_type": "markdown",
   "source": [
    "### **6.3.1. FILTER 1 - BY YEAR**"
   ],
   "metadata": {
    "id": "3nZJFoNcZ20a"
   }
  },
  {
   "cell_type": "code",
   "source": [
    "data_filter_year = data_search['ano_fabricacao'] > 2020\n",
    "data_search[data_filter_year]"
   ],
   "metadata": {
    "id": "HUOPxSznUgnh",
    "colab": {
     "base_uri": "https://localhost:8080/",
     "height": 425
    },
    "outputId": "7da08fe9-31cd-4f17-a9ea-01e270fd7907",
    "ExecuteTime": {
     "end_time": "2025-10-12T18:20:48.549Z",
     "start_time": "2025-10-12T18:20:48.541312Z"
    }
   },
   "outputs": [
    {
     "data": {
      "text/plain": [
       "   montadora   modelo  ano_fabricacao  valor_mercado\n",
       "12      Ford       Ka            2021       36823.04\n",
       "23     Honda     WR-V            2023           0.00\n",
       "25    Toyota    Etios            2022       86044.60\n",
       "32     Honda     City            2023       45806.62\n",
       "42    Toyota  Corolla            2022       46634.89\n",
       "60     Honda     City            2023       74827.34\n",
       "73      Ford   Fusion            2021       56785.61\n",
       "78    Toyota    Hilux            2022       94675.89\n",
       "83     Honda     HR-V            2022       56433.30\n",
       "87    Toyota     RAV4            2022       24113.48\n",
       "90    Toyota    Hilux            2022       42740.59\n",
       "92      Ford    Focus            2022       35918.10"
      ],
      "text/html": [
       "<div>\n",
       "<style scoped>\n",
       "    .dataframe tbody tr th:only-of-type {\n",
       "        vertical-align: middle;\n",
       "    }\n",
       "\n",
       "    .dataframe tbody tr th {\n",
       "        vertical-align: top;\n",
       "    }\n",
       "\n",
       "    .dataframe thead th {\n",
       "        text-align: right;\n",
       "    }\n",
       "</style>\n",
       "<table border=\"1\" class=\"dataframe\">\n",
       "  <thead>\n",
       "    <tr style=\"text-align: right;\">\n",
       "      <th></th>\n",
       "      <th>montadora</th>\n",
       "      <th>modelo</th>\n",
       "      <th>ano_fabricacao</th>\n",
       "      <th>valor_mercado</th>\n",
       "    </tr>\n",
       "  </thead>\n",
       "  <tbody>\n",
       "    <tr>\n",
       "      <th>12</th>\n",
       "      <td>Ford</td>\n",
       "      <td>Ka</td>\n",
       "      <td>2021</td>\n",
       "      <td>36823.04</td>\n",
       "    </tr>\n",
       "    <tr>\n",
       "      <th>23</th>\n",
       "      <td>Honda</td>\n",
       "      <td>WR-V</td>\n",
       "      <td>2023</td>\n",
       "      <td>0.00</td>\n",
       "    </tr>\n",
       "    <tr>\n",
       "      <th>25</th>\n",
       "      <td>Toyota</td>\n",
       "      <td>Etios</td>\n",
       "      <td>2022</td>\n",
       "      <td>86044.60</td>\n",
       "    </tr>\n",
       "    <tr>\n",
       "      <th>32</th>\n",
       "      <td>Honda</td>\n",
       "      <td>City</td>\n",
       "      <td>2023</td>\n",
       "      <td>45806.62</td>\n",
       "    </tr>\n",
       "    <tr>\n",
       "      <th>42</th>\n",
       "      <td>Toyota</td>\n",
       "      <td>Corolla</td>\n",
       "      <td>2022</td>\n",
       "      <td>46634.89</td>\n",
       "    </tr>\n",
       "    <tr>\n",
       "      <th>60</th>\n",
       "      <td>Honda</td>\n",
       "      <td>City</td>\n",
       "      <td>2023</td>\n",
       "      <td>74827.34</td>\n",
       "    </tr>\n",
       "    <tr>\n",
       "      <th>73</th>\n",
       "      <td>Ford</td>\n",
       "      <td>Fusion</td>\n",
       "      <td>2021</td>\n",
       "      <td>56785.61</td>\n",
       "    </tr>\n",
       "    <tr>\n",
       "      <th>78</th>\n",
       "      <td>Toyota</td>\n",
       "      <td>Hilux</td>\n",
       "      <td>2022</td>\n",
       "      <td>94675.89</td>\n",
       "    </tr>\n",
       "    <tr>\n",
       "      <th>83</th>\n",
       "      <td>Honda</td>\n",
       "      <td>HR-V</td>\n",
       "      <td>2022</td>\n",
       "      <td>56433.30</td>\n",
       "    </tr>\n",
       "    <tr>\n",
       "      <th>87</th>\n",
       "      <td>Toyota</td>\n",
       "      <td>RAV4</td>\n",
       "      <td>2022</td>\n",
       "      <td>24113.48</td>\n",
       "    </tr>\n",
       "    <tr>\n",
       "      <th>90</th>\n",
       "      <td>Toyota</td>\n",
       "      <td>Hilux</td>\n",
       "      <td>2022</td>\n",
       "      <td>42740.59</td>\n",
       "    </tr>\n",
       "    <tr>\n",
       "      <th>92</th>\n",
       "      <td>Ford</td>\n",
       "      <td>Focus</td>\n",
       "      <td>2022</td>\n",
       "      <td>35918.10</td>\n",
       "    </tr>\n",
       "  </tbody>\n",
       "</table>\n",
       "</div>"
      ]
     },
     "execution_count": 212,
     "metadata": {},
     "output_type": "execute_result"
    }
   ],
   "execution_count": 212
  },
  {
   "cell_type": "markdown",
   "source": [
    "### **6.3.2. FILTER 2 - BY VALUATION (PRICE)**"
   ],
   "metadata": {
    "id": "aWJrFGlTaX9-"
   }
  },
  {
   "cell_type": "code",
   "source": [
    "data_filter_valuation = data_search['valor_mercado'] >= 30000\n",
    "data_search[data_filter_valuation]"
   ],
   "metadata": {
    "colab": {
     "base_uri": "https://localhost:8080/",
     "height": 457
    },
    "id": "BQokW6h_acgE",
    "outputId": "7aa03de8-1b8e-443d-c4eb-101d92d78c1d",
    "ExecuteTime": {
     "end_time": "2025-10-12T18:20:48.574756Z",
     "start_time": "2025-10-12T18:20:48.566664Z"
    }
   },
   "outputs": [
    {
     "data": {
      "text/plain": [
       "   montadora   modelo  ano_fabricacao  valor_mercado\n",
       "0       Ford    Focus            2017       62399.38\n",
       "12      Ford       Ka            2021       36823.04\n",
       "25    Toyota    Etios            2022       86044.60\n",
       "29    Toyota    Hilux            2020       42587.73\n",
       "32     Honda     City            2023       45806.62\n",
       "42    Toyota  Corolla            2022       46634.89\n",
       "60     Honda     City            2023       74827.34\n",
       "73      Ford   Fusion            2021       56785.61\n",
       "78    Toyota    Hilux            2022       94675.89\n",
       "83     Honda     HR-V            2022       56433.30\n",
       "90    Toyota    Hilux            2022       42740.59\n",
       "92      Ford    Focus            2022       35918.10\n",
       "93      Ford   Fiesta            2018       34799.42"
      ],
      "text/html": [
       "<div>\n",
       "<style scoped>\n",
       "    .dataframe tbody tr th:only-of-type {\n",
       "        vertical-align: middle;\n",
       "    }\n",
       "\n",
       "    .dataframe tbody tr th {\n",
       "        vertical-align: top;\n",
       "    }\n",
       "\n",
       "    .dataframe thead th {\n",
       "        text-align: right;\n",
       "    }\n",
       "</style>\n",
       "<table border=\"1\" class=\"dataframe\">\n",
       "  <thead>\n",
       "    <tr style=\"text-align: right;\">\n",
       "      <th></th>\n",
       "      <th>montadora</th>\n",
       "      <th>modelo</th>\n",
       "      <th>ano_fabricacao</th>\n",
       "      <th>valor_mercado</th>\n",
       "    </tr>\n",
       "  </thead>\n",
       "  <tbody>\n",
       "    <tr>\n",
       "      <th>0</th>\n",
       "      <td>Ford</td>\n",
       "      <td>Focus</td>\n",
       "      <td>2017</td>\n",
       "      <td>62399.38</td>\n",
       "    </tr>\n",
       "    <tr>\n",
       "      <th>12</th>\n",
       "      <td>Ford</td>\n",
       "      <td>Ka</td>\n",
       "      <td>2021</td>\n",
       "      <td>36823.04</td>\n",
       "    </tr>\n",
       "    <tr>\n",
       "      <th>25</th>\n",
       "      <td>Toyota</td>\n",
       "      <td>Etios</td>\n",
       "      <td>2022</td>\n",
       "      <td>86044.60</td>\n",
       "    </tr>\n",
       "    <tr>\n",
       "      <th>29</th>\n",
       "      <td>Toyota</td>\n",
       "      <td>Hilux</td>\n",
       "      <td>2020</td>\n",
       "      <td>42587.73</td>\n",
       "    </tr>\n",
       "    <tr>\n",
       "      <th>32</th>\n",
       "      <td>Honda</td>\n",
       "      <td>City</td>\n",
       "      <td>2023</td>\n",
       "      <td>45806.62</td>\n",
       "    </tr>\n",
       "    <tr>\n",
       "      <th>42</th>\n",
       "      <td>Toyota</td>\n",
       "      <td>Corolla</td>\n",
       "      <td>2022</td>\n",
       "      <td>46634.89</td>\n",
       "    </tr>\n",
       "    <tr>\n",
       "      <th>60</th>\n",
       "      <td>Honda</td>\n",
       "      <td>City</td>\n",
       "      <td>2023</td>\n",
       "      <td>74827.34</td>\n",
       "    </tr>\n",
       "    <tr>\n",
       "      <th>73</th>\n",
       "      <td>Ford</td>\n",
       "      <td>Fusion</td>\n",
       "      <td>2021</td>\n",
       "      <td>56785.61</td>\n",
       "    </tr>\n",
       "    <tr>\n",
       "      <th>78</th>\n",
       "      <td>Toyota</td>\n",
       "      <td>Hilux</td>\n",
       "      <td>2022</td>\n",
       "      <td>94675.89</td>\n",
       "    </tr>\n",
       "    <tr>\n",
       "      <th>83</th>\n",
       "      <td>Honda</td>\n",
       "      <td>HR-V</td>\n",
       "      <td>2022</td>\n",
       "      <td>56433.30</td>\n",
       "    </tr>\n",
       "    <tr>\n",
       "      <th>90</th>\n",
       "      <td>Toyota</td>\n",
       "      <td>Hilux</td>\n",
       "      <td>2022</td>\n",
       "      <td>42740.59</td>\n",
       "    </tr>\n",
       "    <tr>\n",
       "      <th>92</th>\n",
       "      <td>Ford</td>\n",
       "      <td>Focus</td>\n",
       "      <td>2022</td>\n",
       "      <td>35918.10</td>\n",
       "    </tr>\n",
       "    <tr>\n",
       "      <th>93</th>\n",
       "      <td>Ford</td>\n",
       "      <td>Fiesta</td>\n",
       "      <td>2018</td>\n",
       "      <td>34799.42</td>\n",
       "    </tr>\n",
       "  </tbody>\n",
       "</table>\n",
       "</div>"
      ]
     },
     "execution_count": 213,
     "metadata": {},
     "output_type": "execute_result"
    }
   ],
   "execution_count": 213
  },
  {
   "cell_type": "markdown",
   "source": [
    "### **6.2.3. BOTH FILTERS - BY YEAR AND VALUATION (PRICE)**"
   ],
   "metadata": {
    "id": "aXB107D0cQhl"
   }
  },
  {
   "cell_type": "markdown",
   "source": [
    "#### **6.2.3.1. WAY 1**"
   ],
   "metadata": {
    "id": "ncpPiEnOc-Rr"
   }
  },
  {
   "cell_type": "code",
   "source": [
    "data_filter_year_valuation = (data_filter_year) & (data_filter_valuation)\n",
    "data_search[data_filter_year_valuation]"
   ],
   "metadata": {
    "colab": {
     "base_uri": "https://localhost:8080/",
     "height": 363
    },
    "id": "VL5NFa3LcXQN",
    "outputId": "b48a6918-90d5-4bd6-c8cf-bdac2a84fa4a",
    "ExecuteTime": {
     "end_time": "2025-10-12T18:20:48.604068Z",
     "start_time": "2025-10-12T18:20:48.595236Z"
    }
   },
   "outputs": [
    {
     "data": {
      "text/plain": [
       "   montadora   modelo  ano_fabricacao  valor_mercado\n",
       "12      Ford       Ka            2021       36823.04\n",
       "25    Toyota    Etios            2022       86044.60\n",
       "32     Honda     City            2023       45806.62\n",
       "42    Toyota  Corolla            2022       46634.89\n",
       "60     Honda     City            2023       74827.34\n",
       "73      Ford   Fusion            2021       56785.61\n",
       "78    Toyota    Hilux            2022       94675.89\n",
       "83     Honda     HR-V            2022       56433.30\n",
       "90    Toyota    Hilux            2022       42740.59\n",
       "92      Ford    Focus            2022       35918.10"
      ],
      "text/html": [
       "<div>\n",
       "<style scoped>\n",
       "    .dataframe tbody tr th:only-of-type {\n",
       "        vertical-align: middle;\n",
       "    }\n",
       "\n",
       "    .dataframe tbody tr th {\n",
       "        vertical-align: top;\n",
       "    }\n",
       "\n",
       "    .dataframe thead th {\n",
       "        text-align: right;\n",
       "    }\n",
       "</style>\n",
       "<table border=\"1\" class=\"dataframe\">\n",
       "  <thead>\n",
       "    <tr style=\"text-align: right;\">\n",
       "      <th></th>\n",
       "      <th>montadora</th>\n",
       "      <th>modelo</th>\n",
       "      <th>ano_fabricacao</th>\n",
       "      <th>valor_mercado</th>\n",
       "    </tr>\n",
       "  </thead>\n",
       "  <tbody>\n",
       "    <tr>\n",
       "      <th>12</th>\n",
       "      <td>Ford</td>\n",
       "      <td>Ka</td>\n",
       "      <td>2021</td>\n",
       "      <td>36823.04</td>\n",
       "    </tr>\n",
       "    <tr>\n",
       "      <th>25</th>\n",
       "      <td>Toyota</td>\n",
       "      <td>Etios</td>\n",
       "      <td>2022</td>\n",
       "      <td>86044.60</td>\n",
       "    </tr>\n",
       "    <tr>\n",
       "      <th>32</th>\n",
       "      <td>Honda</td>\n",
       "      <td>City</td>\n",
       "      <td>2023</td>\n",
       "      <td>45806.62</td>\n",
       "    </tr>\n",
       "    <tr>\n",
       "      <th>42</th>\n",
       "      <td>Toyota</td>\n",
       "      <td>Corolla</td>\n",
       "      <td>2022</td>\n",
       "      <td>46634.89</td>\n",
       "    </tr>\n",
       "    <tr>\n",
       "      <th>60</th>\n",
       "      <td>Honda</td>\n",
       "      <td>City</td>\n",
       "      <td>2023</td>\n",
       "      <td>74827.34</td>\n",
       "    </tr>\n",
       "    <tr>\n",
       "      <th>73</th>\n",
       "      <td>Ford</td>\n",
       "      <td>Fusion</td>\n",
       "      <td>2021</td>\n",
       "      <td>56785.61</td>\n",
       "    </tr>\n",
       "    <tr>\n",
       "      <th>78</th>\n",
       "      <td>Toyota</td>\n",
       "      <td>Hilux</td>\n",
       "      <td>2022</td>\n",
       "      <td>94675.89</td>\n",
       "    </tr>\n",
       "    <tr>\n",
       "      <th>83</th>\n",
       "      <td>Honda</td>\n",
       "      <td>HR-V</td>\n",
       "      <td>2022</td>\n",
       "      <td>56433.30</td>\n",
       "    </tr>\n",
       "    <tr>\n",
       "      <th>90</th>\n",
       "      <td>Toyota</td>\n",
       "      <td>Hilux</td>\n",
       "      <td>2022</td>\n",
       "      <td>42740.59</td>\n",
       "    </tr>\n",
       "    <tr>\n",
       "      <th>92</th>\n",
       "      <td>Ford</td>\n",
       "      <td>Focus</td>\n",
       "      <td>2022</td>\n",
       "      <td>35918.10</td>\n",
       "    </tr>\n",
       "  </tbody>\n",
       "</table>\n",
       "</div>"
      ]
     },
     "execution_count": 214,
     "metadata": {},
     "output_type": "execute_result"
    }
   ],
   "execution_count": 214
  },
  {
   "cell_type": "markdown",
   "source": [
    "#### **6.2.3.2. WAY 2**"
   ],
   "metadata": {
    "id": "dSaxY8EydGjP"
   }
  },
  {
   "cell_type": "code",
   "source": [
    "YEAR = 2020\n",
    "MARKET_VALUE = 30000\n",
    "\n",
    "select = data_search.query(f'ano_fabricacao > {YEAR} and valor_mercado >= {MARKET_VALUE}')\n",
    "select"
   ],
   "metadata": {
    "colab": {
     "base_uri": "https://localhost:8080/",
     "height": 363
    },
    "id": "RpsfuZG_c8gO",
    "outputId": "caf3e197-c55a-40eb-cf3e-bb2a7822247a",
    "ExecuteTime": {
     "end_time": "2025-10-12T18:20:48.624385Z",
     "start_time": "2025-10-12T18:20:48.613708Z"
    }
   },
   "outputs": [
    {
     "data": {
      "text/plain": [
       "   montadora   modelo  ano_fabricacao  valor_mercado\n",
       "12      Ford       Ka            2021       36823.04\n",
       "25    Toyota    Etios            2022       86044.60\n",
       "32     Honda     City            2023       45806.62\n",
       "42    Toyota  Corolla            2022       46634.89\n",
       "60     Honda     City            2023       74827.34\n",
       "73      Ford   Fusion            2021       56785.61\n",
       "78    Toyota    Hilux            2022       94675.89\n",
       "83     Honda     HR-V            2022       56433.30\n",
       "90    Toyota    Hilux            2022       42740.59\n",
       "92      Ford    Focus            2022       35918.10"
      ],
      "text/html": [
       "<div>\n",
       "<style scoped>\n",
       "    .dataframe tbody tr th:only-of-type {\n",
       "        vertical-align: middle;\n",
       "    }\n",
       "\n",
       "    .dataframe tbody tr th {\n",
       "        vertical-align: top;\n",
       "    }\n",
       "\n",
       "    .dataframe thead th {\n",
       "        text-align: right;\n",
       "    }\n",
       "</style>\n",
       "<table border=\"1\" class=\"dataframe\">\n",
       "  <thead>\n",
       "    <tr style=\"text-align: right;\">\n",
       "      <th></th>\n",
       "      <th>montadora</th>\n",
       "      <th>modelo</th>\n",
       "      <th>ano_fabricacao</th>\n",
       "      <th>valor_mercado</th>\n",
       "    </tr>\n",
       "  </thead>\n",
       "  <tbody>\n",
       "    <tr>\n",
       "      <th>12</th>\n",
       "      <td>Ford</td>\n",
       "      <td>Ka</td>\n",
       "      <td>2021</td>\n",
       "      <td>36823.04</td>\n",
       "    </tr>\n",
       "    <tr>\n",
       "      <th>25</th>\n",
       "      <td>Toyota</td>\n",
       "      <td>Etios</td>\n",
       "      <td>2022</td>\n",
       "      <td>86044.60</td>\n",
       "    </tr>\n",
       "    <tr>\n",
       "      <th>32</th>\n",
       "      <td>Honda</td>\n",
       "      <td>City</td>\n",
       "      <td>2023</td>\n",
       "      <td>45806.62</td>\n",
       "    </tr>\n",
       "    <tr>\n",
       "      <th>42</th>\n",
       "      <td>Toyota</td>\n",
       "      <td>Corolla</td>\n",
       "      <td>2022</td>\n",
       "      <td>46634.89</td>\n",
       "    </tr>\n",
       "    <tr>\n",
       "      <th>60</th>\n",
       "      <td>Honda</td>\n",
       "      <td>City</td>\n",
       "      <td>2023</td>\n",
       "      <td>74827.34</td>\n",
       "    </tr>\n",
       "    <tr>\n",
       "      <th>73</th>\n",
       "      <td>Ford</td>\n",
       "      <td>Fusion</td>\n",
       "      <td>2021</td>\n",
       "      <td>56785.61</td>\n",
       "    </tr>\n",
       "    <tr>\n",
       "      <th>78</th>\n",
       "      <td>Toyota</td>\n",
       "      <td>Hilux</td>\n",
       "      <td>2022</td>\n",
       "      <td>94675.89</td>\n",
       "    </tr>\n",
       "    <tr>\n",
       "      <th>83</th>\n",
       "      <td>Honda</td>\n",
       "      <td>HR-V</td>\n",
       "      <td>2022</td>\n",
       "      <td>56433.30</td>\n",
       "    </tr>\n",
       "    <tr>\n",
       "      <th>90</th>\n",
       "      <td>Toyota</td>\n",
       "      <td>Hilux</td>\n",
       "      <td>2022</td>\n",
       "      <td>42740.59</td>\n",
       "    </tr>\n",
       "    <tr>\n",
       "      <th>92</th>\n",
       "      <td>Ford</td>\n",
       "      <td>Focus</td>\n",
       "      <td>2022</td>\n",
       "      <td>35918.10</td>\n",
       "    </tr>\n",
       "  </tbody>\n",
       "</table>\n",
       "</div>"
      ]
     },
     "execution_count": 215,
     "metadata": {},
     "output_type": "execute_result"
    }
   ],
   "execution_count": 215
  },
  {
   "cell_type": "markdown",
   "metadata": {
    "id": "TqdgAZEjMaMg"
   },
   "source": [
    "# **7. SAVE THE DATA**\n",
    "\n"
   ]
  },
  {
   "cell_type": "markdown",
   "source": [
    "## **7.1. FILE GENERATION**"
   ],
   "metadata": {
    "id": "qteVe3VOfxpK"
   }
  },
  {
   "cell_type": "code",
   "metadata": {
    "id": "KgdJUOaPLDc-",
    "ExecuteTime": {
     "end_time": "2025-10-12T18:20:48.641479Z",
     "start_time": "2025-10-12T18:20:48.637008Z"
    }
   },
   "source": [
    "from pathlib import Path\n",
    "\n",
    "BASE_DIR = Path.cwd()\n",
    "RELATIVE_PATH = 'assets/files/vehicle_rental_search.csv'\n",
    "\n",
    "FILEPATH = BASE_DIR / RELATIVE_PATH\n",
    "# SEPARATOR = ','\n",
    "# HEADER = True\n",
    "INDEX = False\n",
    "# MODE = 'w'\n",
    "ENCODING = 'utf-8'\n",
    "\n",
    "select.to_csv(\n",
    "    path_or_buf=FILEPATH,\n",
    "    # sep=SEPARATOR,\n",
    "    # header=HEADER,\n",
    "    index=INDEX,\n",
    "    # mode=MODE,\n",
    "    encoding=ENCODING\n",
    ")"
   ],
   "outputs": [],
   "execution_count": 216
  },
  {
   "cell_type": "markdown",
   "source": [
    "## **7.2. READ GENERATED FILE**"
   ],
   "metadata": {
    "id": "1twqX3UGf4Er"
   }
  },
  {
   "cell_type": "code",
   "source": [
    "from pathlib import Path\n",
    "\n",
    "BASE_DIR = Path.cwd()\n",
    "RELATIVE_PATH = 'assets/files/vehicle_rental_search.csv'\n",
    "\n",
    "FILEPATH = BASE_DIR / RELATIVE_PATH\n",
    "# SEPARATOR = ','\n",
    "# HEADER = 'infer'\n",
    "ENCODING = 'utf-8'\n",
    "ENCODING_ERRORS = 'strict'\n",
    "\n",
    "pd.read_csv(\n",
    "    filepath_or_buffer=FILEPATH,\n",
    "    # sep=SEPARATOR,\n",
    "    # header=HEADER,\n",
    "    encoding=ENCODING,\n",
    "    encoding_errors=ENCODING_ERRORS\n",
    ")"
   ],
   "metadata": {
    "colab": {
     "base_uri": "https://localhost:8080/",
     "height": 363
    },
    "id": "K34z7fonf9kt",
    "outputId": "09cf6683-7f7b-4bd6-b5fc-2a31b9caede5",
    "ExecuteTime": {
     "end_time": "2025-10-12T18:20:48.669700Z",
     "start_time": "2025-10-12T18:20:48.659312Z"
    }
   },
   "outputs": [
    {
     "data": {
      "text/plain": [
       "  montadora   modelo  ano_fabricacao  valor_mercado\n",
       "0      Ford       Ka            2021       36823.04\n",
       "1    Toyota    Etios            2022       86044.60\n",
       "2     Honda     City            2023       45806.62\n",
       "3    Toyota  Corolla            2022       46634.89\n",
       "4     Honda     City            2023       74827.34\n",
       "5      Ford   Fusion            2021       56785.61\n",
       "6    Toyota    Hilux            2022       94675.89\n",
       "7     Honda     HR-V            2022       56433.30\n",
       "8    Toyota    Hilux            2022       42740.59\n",
       "9      Ford    Focus            2022       35918.10"
      ],
      "text/html": [
       "<div>\n",
       "<style scoped>\n",
       "    .dataframe tbody tr th:only-of-type {\n",
       "        vertical-align: middle;\n",
       "    }\n",
       "\n",
       "    .dataframe tbody tr th {\n",
       "        vertical-align: top;\n",
       "    }\n",
       "\n",
       "    .dataframe thead th {\n",
       "        text-align: right;\n",
       "    }\n",
       "</style>\n",
       "<table border=\"1\" class=\"dataframe\">\n",
       "  <thead>\n",
       "    <tr style=\"text-align: right;\">\n",
       "      <th></th>\n",
       "      <th>montadora</th>\n",
       "      <th>modelo</th>\n",
       "      <th>ano_fabricacao</th>\n",
       "      <th>valor_mercado</th>\n",
       "    </tr>\n",
       "  </thead>\n",
       "  <tbody>\n",
       "    <tr>\n",
       "      <th>0</th>\n",
       "      <td>Ford</td>\n",
       "      <td>Ka</td>\n",
       "      <td>2021</td>\n",
       "      <td>36823.04</td>\n",
       "    </tr>\n",
       "    <tr>\n",
       "      <th>1</th>\n",
       "      <td>Toyota</td>\n",
       "      <td>Etios</td>\n",
       "      <td>2022</td>\n",
       "      <td>86044.60</td>\n",
       "    </tr>\n",
       "    <tr>\n",
       "      <th>2</th>\n",
       "      <td>Honda</td>\n",
       "      <td>City</td>\n",
       "      <td>2023</td>\n",
       "      <td>45806.62</td>\n",
       "    </tr>\n",
       "    <tr>\n",
       "      <th>3</th>\n",
       "      <td>Toyota</td>\n",
       "      <td>Corolla</td>\n",
       "      <td>2022</td>\n",
       "      <td>46634.89</td>\n",
       "    </tr>\n",
       "    <tr>\n",
       "      <th>4</th>\n",
       "      <td>Honda</td>\n",
       "      <td>City</td>\n",
       "      <td>2023</td>\n",
       "      <td>74827.34</td>\n",
       "    </tr>\n",
       "    <tr>\n",
       "      <th>5</th>\n",
       "      <td>Ford</td>\n",
       "      <td>Fusion</td>\n",
       "      <td>2021</td>\n",
       "      <td>56785.61</td>\n",
       "    </tr>\n",
       "    <tr>\n",
       "      <th>6</th>\n",
       "      <td>Toyota</td>\n",
       "      <td>Hilux</td>\n",
       "      <td>2022</td>\n",
       "      <td>94675.89</td>\n",
       "    </tr>\n",
       "    <tr>\n",
       "      <th>7</th>\n",
       "      <td>Honda</td>\n",
       "      <td>HR-V</td>\n",
       "      <td>2022</td>\n",
       "      <td>56433.30</td>\n",
       "    </tr>\n",
       "    <tr>\n",
       "      <th>8</th>\n",
       "      <td>Toyota</td>\n",
       "      <td>Hilux</td>\n",
       "      <td>2022</td>\n",
       "      <td>42740.59</td>\n",
       "    </tr>\n",
       "    <tr>\n",
       "      <th>9</th>\n",
       "      <td>Ford</td>\n",
       "      <td>Focus</td>\n",
       "      <td>2022</td>\n",
       "      <td>35918.10</td>\n",
       "    </tr>\n",
       "  </tbody>\n",
       "</table>\n",
       "</div>"
      ]
     },
     "execution_count": 217,
     "metadata": {},
     "output_type": "execute_result"
    }
   ],
   "execution_count": 217
  }
 ],
 "metadata": {
  "colab": {
   "provenance": []
  },
  "kernelspec": {
   "display_name": ".venv",
   "language": "python",
   "name": "python3"
  },
  "language_info": {
   "name": "python",
   "version": "3.12.10"
  }
 },
 "nbformat": 4,
 "nbformat_minor": 0
}
