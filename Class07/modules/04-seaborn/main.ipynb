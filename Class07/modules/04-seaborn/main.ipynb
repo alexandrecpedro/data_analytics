{
 "cells": [
  {
   "metadata": {},
   "cell_type": "markdown",
   "source": "# SEABORN",
   "id": "6873227af35ddfc4"
  },
  {
   "metadata": {},
   "cell_type": "markdown",
   "source": "## 1. IMPORT LIBRARY",
   "id": "2a03e4e39688484b"
  },
  {
   "metadata": {
    "ExecuteTime": {
     "end_time": "2025-10-21T02:05:58.018760Z",
     "start_time": "2025-10-21T02:05:56.718042Z"
    }
   },
   "cell_type": "code",
   "source": "%pip install -U seaborn",
   "id": "8f917bfb5916bb56",
   "outputs": [
    {
     "name": "stdout",
     "output_type": "stream",
     "text": [
      "Requirement already satisfied: seaborn in c:\\users\\alexandre pedro\\desktop\\base_coding\\classes\\data_analytics\\.venv\\lib\\site-packages (0.13.2)\n",
      "Requirement already satisfied: numpy!=1.24.0,>=1.20 in c:\\users\\alexandre pedro\\desktop\\base_coding\\classes\\data_analytics\\.venv\\lib\\site-packages (from seaborn) (2.3.3)\n",
      "Requirement already satisfied: pandas>=1.2 in c:\\users\\alexandre pedro\\desktop\\base_coding\\classes\\data_analytics\\.venv\\lib\\site-packages (from seaborn) (2.3.3)\n",
      "Requirement already satisfied: matplotlib!=3.6.1,>=3.4 in c:\\users\\alexandre pedro\\desktop\\base_coding\\classes\\data_analytics\\.venv\\lib\\site-packages (from seaborn) (3.10.7)\n",
      "Requirement already satisfied: contourpy>=1.0.1 in c:\\users\\alexandre pedro\\desktop\\base_coding\\classes\\data_analytics\\.venv\\lib\\site-packages (from matplotlib!=3.6.1,>=3.4->seaborn) (1.3.3)\n",
      "Requirement already satisfied: cycler>=0.10 in c:\\users\\alexandre pedro\\desktop\\base_coding\\classes\\data_analytics\\.venv\\lib\\site-packages (from matplotlib!=3.6.1,>=3.4->seaborn) (0.12.1)\n",
      "Requirement already satisfied: fonttools>=4.22.0 in c:\\users\\alexandre pedro\\desktop\\base_coding\\classes\\data_analytics\\.venv\\lib\\site-packages (from matplotlib!=3.6.1,>=3.4->seaborn) (4.60.1)\n",
      "Requirement already satisfied: kiwisolver>=1.3.1 in c:\\users\\alexandre pedro\\desktop\\base_coding\\classes\\data_analytics\\.venv\\lib\\site-packages (from matplotlib!=3.6.1,>=3.4->seaborn) (1.4.9)\n",
      "Requirement already satisfied: packaging>=20.0 in c:\\users\\alexandre pedro\\desktop\\base_coding\\classes\\data_analytics\\.venv\\lib\\site-packages (from matplotlib!=3.6.1,>=3.4->seaborn) (25.0)\n",
      "Requirement already satisfied: pillow>=8 in c:\\users\\alexandre pedro\\desktop\\base_coding\\classes\\data_analytics\\.venv\\lib\\site-packages (from matplotlib!=3.6.1,>=3.4->seaborn) (11.3.0)\n",
      "Requirement already satisfied: pyparsing>=3 in c:\\users\\alexandre pedro\\desktop\\base_coding\\classes\\data_analytics\\.venv\\lib\\site-packages (from matplotlib!=3.6.1,>=3.4->seaborn) (3.2.5)\n",
      "Requirement already satisfied: python-dateutil>=2.7 in c:\\users\\alexandre pedro\\desktop\\base_coding\\classes\\data_analytics\\.venv\\lib\\site-packages (from matplotlib!=3.6.1,>=3.4->seaborn) (2.9.0.post0)\n",
      "Requirement already satisfied: pytz>=2020.1 in c:\\users\\alexandre pedro\\desktop\\base_coding\\classes\\data_analytics\\.venv\\lib\\site-packages (from pandas>=1.2->seaborn) (2025.2)\n",
      "Requirement already satisfied: tzdata>=2022.7 in c:\\users\\alexandre pedro\\desktop\\base_coding\\classes\\data_analytics\\.venv\\lib\\site-packages (from pandas>=1.2->seaborn) (2025.2)\n",
      "Requirement already satisfied: six>=1.5 in c:\\users\\alexandre pedro\\desktop\\base_coding\\classes\\data_analytics\\.venv\\lib\\site-packages (from python-dateutil>=2.7->matplotlib!=3.6.1,>=3.4->seaborn) (1.17.0)\n",
      "Note: you may need to restart the kernel to use updated packages.\n"
     ]
    }
   ],
   "execution_count": 1
  },
  {
   "metadata": {},
   "cell_type": "markdown",
   "source": "## 2. SIMPLE EXAMPLE",
   "id": "cbdbdc4625f1696e"
  },
  {
   "cell_type": "code",
   "id": "08697cbb",
   "metadata": {
    "ExecuteTime": {
     "end_time": "2025-10-21T02:07:12.290659Z",
     "start_time": "2025-10-21T02:07:12.286063Z"
    }
   },
   "source": [
    "import seaborn as sns\n",
    "\n",
    "DATASET = 'tips'\n",
    "COLUMN_NAME = 'total_bill'\n",
    "CHART_TITLE_LABEL = 'Distribution of the Total Bill Amount'"
   ],
   "outputs": [],
   "execution_count": 3
  },
  {
   "metadata": {
    "ExecuteTime": {
     "end_time": "2025-10-21T02:08:23.040821Z",
     "start_time": "2025-10-21T02:08:23.021341Z"
    }
   },
   "cell_type": "code",
   "source": "tips = sns.load_dataset(name=DATASET)",
   "id": "9b3780eaabd18c13",
   "outputs": [],
   "execution_count": 6
  },
  {
   "metadata": {
    "ExecuteTime": {
     "end_time": "2025-10-21T02:08:29.204006Z",
     "start_time": "2025-10-21T02:08:29.182747Z"
    }
   },
   "cell_type": "code",
   "source": "tips.info()",
   "id": "4abf8f4764392d5d",
   "outputs": [
    {
     "name": "stdout",
     "output_type": "stream",
     "text": [
      "<class 'pandas.core.frame.DataFrame'>\n",
      "RangeIndex: 244 entries, 0 to 243\n",
      "Data columns (total 7 columns):\n",
      " #   Column      Non-Null Count  Dtype   \n",
      "---  ------      --------------  -----   \n",
      " 0   total_bill  244 non-null    float64 \n",
      " 1   tip         244 non-null    float64 \n",
      " 2   sex         244 non-null    category\n",
      " 3   smoker      244 non-null    category\n",
      " 4   day         244 non-null    category\n",
      " 5   time        244 non-null    category\n",
      " 6   size        244 non-null    int64   \n",
      "dtypes: category(4), float64(2), int64(1)\n",
      "memory usage: 7.4 KB\n"
     ]
    }
   ],
   "execution_count": 7
  }
 ],
 "metadata": {
  "language_info": {
   "name": "python"
  },
  "kernelspec": {
   "name": "python3",
   "language": "python",
   "display_name": "Python 3 (ipykernel)"
  }
 },
 "nbformat": 4,
 "nbformat_minor": 5
}
