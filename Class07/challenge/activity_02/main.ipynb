{
 "cells": [
  {
   "metadata": {},
   "cell_type": "markdown",
   "source": "# ATIVIDADE 2",
   "id": "42433dcde8318eb"
  },
  {
   "metadata": {},
   "cell_type": "markdown",
   "source": [
    "Você recebeu um arquivo pacientes_clinica.csv com dados de pacientes de uma clínica de saúde.\n",
    "O arquivo contém valores nulos e informações de idade, peso, pressão arterial e nível de glicose."
   ],
   "id": "db8da985934ce58e"
  },
  {
   "metadata": {},
   "cell_type": "markdown",
   "source": "## 1. LENDO ARQUIVO",
   "id": "6456cdd9d2816bf1"
  },
  {
   "cell_type": "code",
   "id": "08697cbb",
   "metadata": {
    "ExecuteTime": {
     "end_time": "2025-10-23T00:01:31.267092Z",
     "start_time": "2025-10-23T00:01:31.225081Z"
    }
   },
   "source": [
    "from tkinter.constants import RIGHT\n",
    "\n",
    "import matplotlib.pyplot as plt\n",
    "import pandas as pd\n",
    "from pandas.conftest import observed\n",
    "\n",
    "FILEPATH = 'https://raw.githubusercontent.com/profivan-ai/cdb-Python/refs/heads/main/arquivos/pacientes.csv'\n",
    "ENCODING = 'utf-8'\n",
    "SEPARATOR = ','\n",
    "\n",
    "try:\n",
    "    df = pd.read_csv(filepath_or_buffer=FILEPATH, sep=SEPARATOR, encoding=ENCODING)\n",
    "    display(df)\n",
    "except FileNotFoundError:\n",
    "    display('File not found')\n",
    "    exit()"
   ],
   "outputs": [
    {
     "data": {
      "text/plain": [
       "    ID      Nome  Idade Genero  Peso  Glicose  Pressao  Mes\n",
       "0    1      João     34      M    80     95.0    120.0  Jan\n",
       "1    2       Ana     45      F    72    110.0    130.0  Jan\n",
       "2    3     Pedro     51      M    90      NaN    140.0  Fev\n",
       "3    4    Cassio     29      M    60     88.0    115.0  Fev\n",
       "4    5    Carlos     63      M    85      NaN    150.0  Mar\n",
       "..  ..       ...    ...    ...   ...      ...      ...  ...\n",
       "65  66     Érica     34      F    62     90.0    118.0  Set\n",
       "66  67     Ramon     52      M    88    107.0    141.0  Out\n",
       "67  68   Jéssica     38      F    67     95.0    123.0  Out\n",
       "68  69  Anderson     59      M    91    111.0    146.0  Nov\n",
       "69  70     Bruna     36      F    64     92.0    119.0  Nov\n",
       "\n",
       "[70 rows x 8 columns]"
      ],
      "text/html": [
       "<div>\n",
       "<style scoped>\n",
       "    .dataframe tbody tr th:only-of-type {\n",
       "        vertical-align: middle;\n",
       "    }\n",
       "\n",
       "    .dataframe tbody tr th {\n",
       "        vertical-align: top;\n",
       "    }\n",
       "\n",
       "    .dataframe thead th {\n",
       "        text-align: right;\n",
       "    }\n",
       "</style>\n",
       "<table border=\"1\" class=\"dataframe\">\n",
       "  <thead>\n",
       "    <tr style=\"text-align: right;\">\n",
       "      <th></th>\n",
       "      <th>ID</th>\n",
       "      <th>Nome</th>\n",
       "      <th>Idade</th>\n",
       "      <th>Genero</th>\n",
       "      <th>Peso</th>\n",
       "      <th>Glicose</th>\n",
       "      <th>Pressao</th>\n",
       "      <th>Mes</th>\n",
       "    </tr>\n",
       "  </thead>\n",
       "  <tbody>\n",
       "    <tr>\n",
       "      <th>0</th>\n",
       "      <td>1</td>\n",
       "      <td>João</td>\n",
       "      <td>34</td>\n",
       "      <td>M</td>\n",
       "      <td>80</td>\n",
       "      <td>95.0</td>\n",
       "      <td>120.0</td>\n",
       "      <td>Jan</td>\n",
       "    </tr>\n",
       "    <tr>\n",
       "      <th>1</th>\n",
       "      <td>2</td>\n",
       "      <td>Ana</td>\n",
       "      <td>45</td>\n",
       "      <td>F</td>\n",
       "      <td>72</td>\n",
       "      <td>110.0</td>\n",
       "      <td>130.0</td>\n",
       "      <td>Jan</td>\n",
       "    </tr>\n",
       "    <tr>\n",
       "      <th>2</th>\n",
       "      <td>3</td>\n",
       "      <td>Pedro</td>\n",
       "      <td>51</td>\n",
       "      <td>M</td>\n",
       "      <td>90</td>\n",
       "      <td>NaN</td>\n",
       "      <td>140.0</td>\n",
       "      <td>Fev</td>\n",
       "    </tr>\n",
       "    <tr>\n",
       "      <th>3</th>\n",
       "      <td>4</td>\n",
       "      <td>Cassio</td>\n",
       "      <td>29</td>\n",
       "      <td>M</td>\n",
       "      <td>60</td>\n",
       "      <td>88.0</td>\n",
       "      <td>115.0</td>\n",
       "      <td>Fev</td>\n",
       "    </tr>\n",
       "    <tr>\n",
       "      <th>4</th>\n",
       "      <td>5</td>\n",
       "      <td>Carlos</td>\n",
       "      <td>63</td>\n",
       "      <td>M</td>\n",
       "      <td>85</td>\n",
       "      <td>NaN</td>\n",
       "      <td>150.0</td>\n",
       "      <td>Mar</td>\n",
       "    </tr>\n",
       "    <tr>\n",
       "      <th>...</th>\n",
       "      <td>...</td>\n",
       "      <td>...</td>\n",
       "      <td>...</td>\n",
       "      <td>...</td>\n",
       "      <td>...</td>\n",
       "      <td>...</td>\n",
       "      <td>...</td>\n",
       "      <td>...</td>\n",
       "    </tr>\n",
       "    <tr>\n",
       "      <th>65</th>\n",
       "      <td>66</td>\n",
       "      <td>Érica</td>\n",
       "      <td>34</td>\n",
       "      <td>F</td>\n",
       "      <td>62</td>\n",
       "      <td>90.0</td>\n",
       "      <td>118.0</td>\n",
       "      <td>Set</td>\n",
       "    </tr>\n",
       "    <tr>\n",
       "      <th>66</th>\n",
       "      <td>67</td>\n",
       "      <td>Ramon</td>\n",
       "      <td>52</td>\n",
       "      <td>M</td>\n",
       "      <td>88</td>\n",
       "      <td>107.0</td>\n",
       "      <td>141.0</td>\n",
       "      <td>Out</td>\n",
       "    </tr>\n",
       "    <tr>\n",
       "      <th>67</th>\n",
       "      <td>68</td>\n",
       "      <td>Jéssica</td>\n",
       "      <td>38</td>\n",
       "      <td>F</td>\n",
       "      <td>67</td>\n",
       "      <td>95.0</td>\n",
       "      <td>123.0</td>\n",
       "      <td>Out</td>\n",
       "    </tr>\n",
       "    <tr>\n",
       "      <th>68</th>\n",
       "      <td>69</td>\n",
       "      <td>Anderson</td>\n",
       "      <td>59</td>\n",
       "      <td>M</td>\n",
       "      <td>91</td>\n",
       "      <td>111.0</td>\n",
       "      <td>146.0</td>\n",
       "      <td>Nov</td>\n",
       "    </tr>\n",
       "    <tr>\n",
       "      <th>69</th>\n",
       "      <td>70</td>\n",
       "      <td>Bruna</td>\n",
       "      <td>36</td>\n",
       "      <td>F</td>\n",
       "      <td>64</td>\n",
       "      <td>92.0</td>\n",
       "      <td>119.0</td>\n",
       "      <td>Nov</td>\n",
       "    </tr>\n",
       "  </tbody>\n",
       "</table>\n",
       "<p>70 rows × 8 columns</p>\n",
       "</div>"
      ]
     },
     "metadata": {},
     "output_type": "display_data",
     "jetTransient": {
      "display_id": null
     }
    }
   ],
   "execution_count": 8
  },
  {
   "metadata": {},
   "cell_type": "markdown",
   "source": "## 2. TRATANDO OS DADOS",
   "id": "cfc26a579f5a712b"
  },
  {
   "metadata": {},
   "cell_type": "markdown",
   "source": "### 2.1. VERIFICANDO NULOS",
   "id": "cdc4dca60b3b3b10"
  },
  {
   "metadata": {
    "ExecuteTime": {
     "end_time": "2025-10-23T00:01:31.309345Z",
     "start_time": "2025-10-23T00:01:31.297857Z"
    }
   },
   "cell_type": "code",
   "source": "df.isnull().sum()",
   "id": "5b19ecd942f9dc2",
   "outputs": [
    {
     "data": {
      "text/plain": [
       "ID         0\n",
       "Nome       0\n",
       "Idade      0\n",
       "Genero     0\n",
       "Peso       0\n",
       "Glicose    8\n",
       "Pressao    5\n",
       "Mes        0\n",
       "dtype: int64"
      ]
     },
     "execution_count": 9,
     "metadata": {},
     "output_type": "execute_result"
    }
   ],
   "execution_count": 9
  },
  {
   "metadata": {},
   "cell_type": "markdown",
   "source": "### 2.2. SUBSTITUINDO COLUNAS COM VALORES NULOS PELA MÉDIA",
   "id": "d499252ed685247f"
  },
  {
   "metadata": {
    "ExecuteTime": {
     "end_time": "2025-10-23T00:01:31.336504Z",
     "start_time": "2025-10-23T00:01:31.324784Z"
    }
   },
   "cell_type": "code",
   "source": [
    "GLICOSE_WITH_NULL_VALUES = 'Glicose'\n",
    "PRESSURE_WITH_NULL_VALUES = 'Pressao'\n",
    "\n",
    "glicose_mean = df[GLICOSE_WITH_NULL_VALUES].mean()\n",
    "pressure_mean = df[PRESSURE_WITH_NULL_VALUES].mean()\n",
    "\n",
    "clean_df = df.copy()\n",
    "clean_df[GLICOSE_WITH_NULL_VALUES] = clean_df[GLICOSE_WITH_NULL_VALUES].fillna(glicose_mean)\n",
    "clean_df[PRESSURE_WITH_NULL_VALUES] = clean_df[PRESSURE_WITH_NULL_VALUES].fillna(pressure_mean)\n",
    "\n",
    "display(clean_df)"
   ],
   "id": "5daae5efb1e7940b",
   "outputs": [
    {
     "data": {
      "text/plain": [
       "    ID      Nome  Idade Genero  Peso     Glicose  Pressao  Mes\n",
       "0    1      João     34      M    80   95.000000    120.0  Jan\n",
       "1    2       Ana     45      F    72  110.000000    130.0  Jan\n",
       "2    3     Pedro     51      M    90   99.741935    140.0  Fev\n",
       "3    4    Cassio     29      M    60   88.000000    115.0  Fev\n",
       "4    5    Carlos     63      M    85   99.741935    150.0  Mar\n",
       "..  ..       ...    ...    ...   ...         ...      ...  ...\n",
       "65  66     Érica     34      F    62   90.000000    118.0  Set\n",
       "66  67     Ramon     52      M    88  107.000000    141.0  Out\n",
       "67  68   Jéssica     38      F    67   95.000000    123.0  Out\n",
       "68  69  Anderson     59      M    91  111.000000    146.0  Nov\n",
       "69  70     Bruna     36      F    64   92.000000    119.0  Nov\n",
       "\n",
       "[70 rows x 8 columns]"
      ],
      "text/html": [
       "<div>\n",
       "<style scoped>\n",
       "    .dataframe tbody tr th:only-of-type {\n",
       "        vertical-align: middle;\n",
       "    }\n",
       "\n",
       "    .dataframe tbody tr th {\n",
       "        vertical-align: top;\n",
       "    }\n",
       "\n",
       "    .dataframe thead th {\n",
       "        text-align: right;\n",
       "    }\n",
       "</style>\n",
       "<table border=\"1\" class=\"dataframe\">\n",
       "  <thead>\n",
       "    <tr style=\"text-align: right;\">\n",
       "      <th></th>\n",
       "      <th>ID</th>\n",
       "      <th>Nome</th>\n",
       "      <th>Idade</th>\n",
       "      <th>Genero</th>\n",
       "      <th>Peso</th>\n",
       "      <th>Glicose</th>\n",
       "      <th>Pressao</th>\n",
       "      <th>Mes</th>\n",
       "    </tr>\n",
       "  </thead>\n",
       "  <tbody>\n",
       "    <tr>\n",
       "      <th>0</th>\n",
       "      <td>1</td>\n",
       "      <td>João</td>\n",
       "      <td>34</td>\n",
       "      <td>M</td>\n",
       "      <td>80</td>\n",
       "      <td>95.000000</td>\n",
       "      <td>120.0</td>\n",
       "      <td>Jan</td>\n",
       "    </tr>\n",
       "    <tr>\n",
       "      <th>1</th>\n",
       "      <td>2</td>\n",
       "      <td>Ana</td>\n",
       "      <td>45</td>\n",
       "      <td>F</td>\n",
       "      <td>72</td>\n",
       "      <td>110.000000</td>\n",
       "      <td>130.0</td>\n",
       "      <td>Jan</td>\n",
       "    </tr>\n",
       "    <tr>\n",
       "      <th>2</th>\n",
       "      <td>3</td>\n",
       "      <td>Pedro</td>\n",
       "      <td>51</td>\n",
       "      <td>M</td>\n",
       "      <td>90</td>\n",
       "      <td>99.741935</td>\n",
       "      <td>140.0</td>\n",
       "      <td>Fev</td>\n",
       "    </tr>\n",
       "    <tr>\n",
       "      <th>3</th>\n",
       "      <td>4</td>\n",
       "      <td>Cassio</td>\n",
       "      <td>29</td>\n",
       "      <td>M</td>\n",
       "      <td>60</td>\n",
       "      <td>88.000000</td>\n",
       "      <td>115.0</td>\n",
       "      <td>Fev</td>\n",
       "    </tr>\n",
       "    <tr>\n",
       "      <th>4</th>\n",
       "      <td>5</td>\n",
       "      <td>Carlos</td>\n",
       "      <td>63</td>\n",
       "      <td>M</td>\n",
       "      <td>85</td>\n",
       "      <td>99.741935</td>\n",
       "      <td>150.0</td>\n",
       "      <td>Mar</td>\n",
       "    </tr>\n",
       "    <tr>\n",
       "      <th>...</th>\n",
       "      <td>...</td>\n",
       "      <td>...</td>\n",
       "      <td>...</td>\n",
       "      <td>...</td>\n",
       "      <td>...</td>\n",
       "      <td>...</td>\n",
       "      <td>...</td>\n",
       "      <td>...</td>\n",
       "    </tr>\n",
       "    <tr>\n",
       "      <th>65</th>\n",
       "      <td>66</td>\n",
       "      <td>Érica</td>\n",
       "      <td>34</td>\n",
       "      <td>F</td>\n",
       "      <td>62</td>\n",
       "      <td>90.000000</td>\n",
       "      <td>118.0</td>\n",
       "      <td>Set</td>\n",
       "    </tr>\n",
       "    <tr>\n",
       "      <th>66</th>\n",
       "      <td>67</td>\n",
       "      <td>Ramon</td>\n",
       "      <td>52</td>\n",
       "      <td>M</td>\n",
       "      <td>88</td>\n",
       "      <td>107.000000</td>\n",
       "      <td>141.0</td>\n",
       "      <td>Out</td>\n",
       "    </tr>\n",
       "    <tr>\n",
       "      <th>67</th>\n",
       "      <td>68</td>\n",
       "      <td>Jéssica</td>\n",
       "      <td>38</td>\n",
       "      <td>F</td>\n",
       "      <td>67</td>\n",
       "      <td>95.000000</td>\n",
       "      <td>123.0</td>\n",
       "      <td>Out</td>\n",
       "    </tr>\n",
       "    <tr>\n",
       "      <th>68</th>\n",
       "      <td>69</td>\n",
       "      <td>Anderson</td>\n",
       "      <td>59</td>\n",
       "      <td>M</td>\n",
       "      <td>91</td>\n",
       "      <td>111.000000</td>\n",
       "      <td>146.0</td>\n",
       "      <td>Nov</td>\n",
       "    </tr>\n",
       "    <tr>\n",
       "      <th>69</th>\n",
       "      <td>70</td>\n",
       "      <td>Bruna</td>\n",
       "      <td>36</td>\n",
       "      <td>F</td>\n",
       "      <td>64</td>\n",
       "      <td>92.000000</td>\n",
       "      <td>119.0</td>\n",
       "      <td>Nov</td>\n",
       "    </tr>\n",
       "  </tbody>\n",
       "</table>\n",
       "<p>70 rows × 8 columns</p>\n",
       "</div>"
      ]
     },
     "metadata": {},
     "output_type": "display_data",
     "jetTransient": {
      "display_id": null
     }
    }
   ],
   "execution_count": 10
  },
  {
   "metadata": {},
   "cell_type": "code",
   "outputs": [],
   "execution_count": null,
   "source": [
    "# CHECKS\n",
    "\n",
    "# display(f\"Glicose Mean used for imputation: {glicose_mean:.2f}\")\n",
    "# display(f\"New Glicose column mean (with filled nulls): {clean_df['Glicose'].mean():.2f}\")\n",
    "# display(\"=================\")\n",
    "# display(f\"Pressure Mean used for imputation: {pressure_mean:.2f}\")\n",
    "# display(f\"New Pressure column mean (with filled nulls): {clean_df['Pressao'].mean():.1f}\")"
   ],
   "id": "20801c546f2579a1"
  },
  {
   "metadata": {},
   "cell_type": "markdown",
   "source": "## 3. GRÁFICOS",
   "id": "ca75fb8e0d5b8932"
  },
  {
   "metadata": {},
   "cell_type": "markdown",
   "source": "### 3.1. MÉDIA DE GLICOSE POR FAIXA ETÁRIA (BAR CHART)",
   "id": "7943a1435c7faf2a"
  },
  {
   "metadata": {},
   "cell_type": "markdown",
   "source": "#### 3.1.1. GERANDO NOVA COLUNA - FAIXA ETÁRIA",
   "id": "d597f1e4ad7294c9"
  },
  {
   "metadata": {
    "ExecuteTime": {
     "end_time": "2025-10-23T00:12:08.877244Z",
     "start_time": "2025-10-23T00:12:08.865498Z"
    }
   },
   "cell_type": "code",
   "source": [
    "AGE_COLUMN = 'Idade'\n",
    "NEW_AGE_RANGE_COLUMN = 'Faixa Etária'\n",
    "\n",
    "BINS = [0, 30, 40, 50, 60, 100]\n",
    "LABELS = ['Até 30', '31-40', '41-50', '51-60', '61+']\n",
    "RIGHT = True\n",
    "INCLUDE_LOWEST = True\n",
    "ORDERED = True\n",
    "\n",
    "clean_df[NEW_AGE_RANGE_COLUMN] = pd.cut(\n",
    "    clean_df[AGE_COLUMN],\n",
    "    bins=BINS,\n",
    "    labels=LABELS,\n",
    "    right=RIGHT,\n",
    "    include_lowest=INCLUDE_LOWEST,\n",
    "    ordered=ORDERED\n",
    ")\n",
    "\n",
    "display(clean_df.head())"
   ],
   "id": "9e80e714a1f4dd55",
   "outputs": [
    {
     "data": {
      "text/plain": [
       "   ID    Nome  Idade Genero  Peso     Glicose  Pressao  Mes Faixa Etária\n",
       "0   1    João     34      M    80   95.000000    120.0  Jan        31-40\n",
       "1   2     Ana     45      F    72  110.000000    130.0  Jan        41-50\n",
       "2   3   Pedro     51      M    90   99.741935    140.0  Fev        51-60\n",
       "3   4  Cassio     29      M    60   88.000000    115.0  Fev       Até 30\n",
       "4   5  Carlos     63      M    85   99.741935    150.0  Mar          61+"
      ],
      "text/html": [
       "<div>\n",
       "<style scoped>\n",
       "    .dataframe tbody tr th:only-of-type {\n",
       "        vertical-align: middle;\n",
       "    }\n",
       "\n",
       "    .dataframe tbody tr th {\n",
       "        vertical-align: top;\n",
       "    }\n",
       "\n",
       "    .dataframe thead th {\n",
       "        text-align: right;\n",
       "    }\n",
       "</style>\n",
       "<table border=\"1\" class=\"dataframe\">\n",
       "  <thead>\n",
       "    <tr style=\"text-align: right;\">\n",
       "      <th></th>\n",
       "      <th>ID</th>\n",
       "      <th>Nome</th>\n",
       "      <th>Idade</th>\n",
       "      <th>Genero</th>\n",
       "      <th>Peso</th>\n",
       "      <th>Glicose</th>\n",
       "      <th>Pressao</th>\n",
       "      <th>Mes</th>\n",
       "      <th>Faixa Etária</th>\n",
       "    </tr>\n",
       "  </thead>\n",
       "  <tbody>\n",
       "    <tr>\n",
       "      <th>0</th>\n",
       "      <td>1</td>\n",
       "      <td>João</td>\n",
       "      <td>34</td>\n",
       "      <td>M</td>\n",
       "      <td>80</td>\n",
       "      <td>95.000000</td>\n",
       "      <td>120.0</td>\n",
       "      <td>Jan</td>\n",
       "      <td>31-40</td>\n",
       "    </tr>\n",
       "    <tr>\n",
       "      <th>1</th>\n",
       "      <td>2</td>\n",
       "      <td>Ana</td>\n",
       "      <td>45</td>\n",
       "      <td>F</td>\n",
       "      <td>72</td>\n",
       "      <td>110.000000</td>\n",
       "      <td>130.0</td>\n",
       "      <td>Jan</td>\n",
       "      <td>41-50</td>\n",
       "    </tr>\n",
       "    <tr>\n",
       "      <th>2</th>\n",
       "      <td>3</td>\n",
       "      <td>Pedro</td>\n",
       "      <td>51</td>\n",
       "      <td>M</td>\n",
       "      <td>90</td>\n",
       "      <td>99.741935</td>\n",
       "      <td>140.0</td>\n",
       "      <td>Fev</td>\n",
       "      <td>51-60</td>\n",
       "    </tr>\n",
       "    <tr>\n",
       "      <th>3</th>\n",
       "      <td>4</td>\n",
       "      <td>Cassio</td>\n",
       "      <td>29</td>\n",
       "      <td>M</td>\n",
       "      <td>60</td>\n",
       "      <td>88.000000</td>\n",
       "      <td>115.0</td>\n",
       "      <td>Fev</td>\n",
       "      <td>Até 30</td>\n",
       "    </tr>\n",
       "    <tr>\n",
       "      <th>4</th>\n",
       "      <td>5</td>\n",
       "      <td>Carlos</td>\n",
       "      <td>63</td>\n",
       "      <td>M</td>\n",
       "      <td>85</td>\n",
       "      <td>99.741935</td>\n",
       "      <td>150.0</td>\n",
       "      <td>Mar</td>\n",
       "      <td>61+</td>\n",
       "    </tr>\n",
       "  </tbody>\n",
       "</table>\n",
       "</div>"
      ]
     },
     "metadata": {},
     "output_type": "display_data",
     "jetTransient": {
      "display_id": null
     }
    }
   ],
   "execution_count": 14
  },
  {
   "metadata": {},
   "cell_type": "markdown",
   "source": "#### 3.1.2. AGRUPANDO MÉDIA DE GLICOSE POR FAIXA ETÁRIA",
   "id": "d7ba2e7c6e32b956"
  },
  {
   "metadata": {
    "ExecuteTime": {
     "end_time": "2025-10-23T00:16:25.466522Z",
     "start_time": "2025-10-23T00:16:25.458461Z"
    }
   },
   "cell_type": "code",
   "source": [
    "GLICOSE_COLUMN = 'Glicose'\n",
    "OBSERVED = True\n",
    "\n",
    "df_mean_glicose_by_age = clean_df.groupby(by=NEW_AGE_RANGE_COLUMN, observed=OBSERVED)[GLICOSE_COLUMN].mean()\n",
    "df_mean_glicose_by_age"
   ],
   "id": "cf712dc60e0f524e",
   "outputs": [
    {
     "data": {
      "text/plain": [
       "Faixa Etária\n",
       "Até 30     86.400000\n",
       "31-40      93.958710\n",
       "41-50     101.393888\n",
       "51-60     108.096774\n",
       "61+       109.580645\n",
       "Name: Glicose, dtype: float64"
      ]
     },
     "execution_count": 17,
     "metadata": {},
     "output_type": "execute_result"
    }
   ],
   "execution_count": 17
  },
  {
   "metadata": {},
   "cell_type": "markdown",
   "source": "#### 3.1.3. TRAÇANDO GRÁFICO",
   "id": "21b43dfe3f6ac5cd"
  },
  {
   "metadata": {
    "ExecuteTime": {
     "end_time": "2025-10-23T00:18:53.995117Z",
     "start_time": "2025-10-23T00:18:53.988830Z"
    }
   },
   "cell_type": "code",
   "source": [
    "KIND = 'bar'\n",
    "COLOR = 'blue'\n",
    "FIGSIZE = (10,6)\n",
    "TITLE = 'Média de Glicose por Faixa Etária'\n",
    "XLABEL = 'Faixa Etária'\n",
    "YLABEL = 'Média de Glicose (mg/dL)'\n",
    "ROTATION = 0\n",
    "\n",
    "GRID_LINESTYLE = '--'\n",
    "GRID_ALPHA = 0.6"
   ],
   "id": "bc90da8025d79b9e",
   "outputs": [],
   "execution_count": 19
  },
  {
   "metadata": {
    "ExecuteTime": {
     "end_time": "2025-10-23T00:18:55.597731Z",
     "start_time": "2025-10-23T00:18:55.464417Z"
    }
   },
   "cell_type": "code",
   "source": [
    "df_mean_glicose_by_age.plot(\n",
    "    kind=KIND,\n",
    "    color=COLOR,\n",
    "    figsize=FIGSIZE,\n",
    "    title=TITLE,\n",
    "    xlabel=XLABEL,\n",
    "    ylabel=YLABEL,\n",
    "    rot=ROTATION\n",
    ")\n",
    "plt.tight_layout()\n",
    "plt.grid(axis='y', linestyle=GRID_LINESTYLE, alpha=GRID_ALPHA)\n",
    "plt.show()"
   ],
   "id": "44ab38369d88be9b",
   "outputs": [
    {
     "data": {
      "text/plain": [
       "<Figure size 1000x600 with 1 Axes>"
      ],
      "image/png": "[encoded data removed]"
     },
     "metadata": {},
     "output_type": "display_data",
     "jetTransient": {
      "display_id": null
     }
    }
   ],
   "execution_count": 20
  },
  {
   "metadata": {},
   "cell_type": "markdown",
   "source": "### 3.2. PROPORÇÃO DE PACIENTES POR GÊNERO (PIE CHART)",
   "id": "94e6999bf5346653"
  },
  {
   "metadata": {},
   "cell_type": "markdown",
   "source": "#### 3.2.1. AGRUPANDO PACIENTES POR GÊNERO",
   "id": "3172737802f26dcb"
  },
  {
   "metadata": {
    "ExecuteTime": {
     "end_time": "2025-10-23T00:30:02.100228Z",
     "start_time": "2025-10-23T00:30:02.090168Z"
    }
   },
   "cell_type": "code",
   "source": [
    "GENDER_COLUMN = 'Genero'\n",
    "\n",
    "df_patients_by_gender = clean_df[GENDER_COLUMN].value_counts()\n",
    "display(df_patients_by_gender)"
   ],
   "id": "6b0447f7b43d9fb",
   "outputs": [
    {
     "data": {
      "text/plain": [
       "Genero\n",
       "M    37\n",
       "F    33\n",
       "Name: count, dtype: int64"
      ]
     },
     "metadata": {},
     "output_type": "display_data",
     "jetTransient": {
      "display_id": null
     }
    }
   ],
   "execution_count": 32
  },
  {
   "metadata": {},
   "cell_type": "markdown",
   "source": "#### 3.2.2. TRAÇANDO GRÁFICO",
   "id": "7c61f2ad1b8707d8"
  },
  {
   "metadata": {
    "ExecuteTime": {
     "end_time": "2025-10-23T00:22:41.145027Z",
     "start_time": "2025-10-23T00:22:41.135848Z"
    }
   },
   "cell_type": "code",
   "source": [
    "KIND = 'pie'\n",
    "FIGSIZE = (8,5)\n",
    "TITLE = 'Proporção de Pacientes por Gênero'\n",
    "YLABEL = ''\n",
    "AUTOPCT = '%1.2f%%'\n",
    "STARTANGLE = 90"
   ],
   "id": "7a95aa45e1da7c28",
   "outputs": [],
   "execution_count": 25
  },
  {
   "metadata": {
    "ExecuteTime": {
     "end_time": "2025-10-23T00:22:42.573778Z",
     "start_time": "2025-10-23T00:22:42.505591Z"
    }
   },
   "cell_type": "code",
   "source": [
    "df_patients_by_gender.plot(\n",
    "    kind=KIND,\n",
    "    figsize=FIGSIZE,\n",
    "    title=TITLE,\n",
    "    ylabel=YLABEL,\n",
    "    autopct=AUTOPCT,\n",
    "    startangle=STARTANGLE,\n",
    ")\n",
    "plt.tight_layout()\n",
    "plt.show()"
   ],
   "id": "39f8b76022331fbe",
   "outputs": [
    {
     "data": {
      "text/plain": [
       "<Figure size 800x500 with 1 Axes>"
      ],
      "image/png": "[encoded data removed]"
     },
     "metadata": {},
     "output_type": "display_data",
     "jetTransient": {
      "display_id": null
     }
    }
   ],
   "execution_count": 26
  },
  {
   "metadata": {},
   "cell_type": "markdown",
   "source": "### 3.3. EVOLUÇÃO MÉDIA DA PRESSÃO ARTERIAL POR MÊS (LINE CHART)",
   "id": "2d30f11c06f1be8f"
  },
  {
   "metadata": {},
   "cell_type": "markdown",
   "source": "#### 3.3.1. COLOCANDO MÊS EM ORDEM CALENDÁRIO",
   "id": "8e4f77a314460811"
  },
  {
   "metadata": {
    "ExecuteTime": {
     "end_time": "2025-10-23T00:31:31.527691Z",
     "start_time": "2025-10-23T00:31:31.507220Z"
    }
   },
   "cell_type": "code",
   "source": [
    "MONTH_COLUMN = 'Mes'\n",
    "MONTH_ORDER = [\n",
    "    'Jan', 'Fev', 'Mar', 'Abr', 'Mai', 'Jun',\n",
    "    'Jul', 'Ago', 'Set', 'Out', 'Nov', 'Dez'\n",
    "]\n",
    "ORDERED = True\n",
    "\n",
    "clean_df[MONTH_COLUMN] = pd.Categorical(\n",
    "    values=clean_df[MONTH_COLUMN],\n",
    "    categories=MONTH_ORDER,\n",
    "    ordered=ORDERED\n",
    ")\n",
    "\n",
    "display(clean_df.head())"
   ],
   "id": "6096daa70a558a03",
   "outputs": [
    {
     "data": {
      "text/plain": [
       "   ID    Nome  Idade Genero  Peso     Glicose  Pressao  Mes Faixa Etária\n",
       "0   1    João     34      M    80   95.000000    120.0  Jan        31-40\n",
       "1   2     Ana     45      F    72  110.000000    130.0  Jan        41-50\n",
       "2   3   Pedro     51      M    90   99.741935    140.0  Fev        51-60\n",
       "3   4  Cassio     29      M    60   88.000000    115.0  Fev       Até 30\n",
       "4   5  Carlos     63      M    85   99.741935    150.0  Mar          61+"
      ],
      "text/html": [
       "<div>\n",
       "<style scoped>\n",
       "    .dataframe tbody tr th:only-of-type {\n",
       "        vertical-align: middle;\n",
       "    }\n",
       "\n",
       "    .dataframe tbody tr th {\n",
       "        vertical-align: top;\n",
       "    }\n",
       "\n",
       "    .dataframe thead th {\n",
       "        text-align: right;\n",
       "    }\n",
       "</style>\n",
       "<table border=\"1\" class=\"dataframe\">\n",
       "  <thead>\n",
       "    <tr style=\"text-align: right;\">\n",
       "      <th></th>\n",
       "      <th>ID</th>\n",
       "      <th>Nome</th>\n",
       "      <th>Idade</th>\n",
       "      <th>Genero</th>\n",
       "      <th>Peso</th>\n",
       "      <th>Glicose</th>\n",
       "      <th>Pressao</th>\n",
       "      <th>Mes</th>\n",
       "      <th>Faixa Etária</th>\n",
       "    </tr>\n",
       "  </thead>\n",
       "  <tbody>\n",
       "    <tr>\n",
       "      <th>0</th>\n",
       "      <td>1</td>\n",
       "      <td>João</td>\n",
       "      <td>34</td>\n",
       "      <td>M</td>\n",
       "      <td>80</td>\n",
       "      <td>95.000000</td>\n",
       "      <td>120.0</td>\n",
       "      <td>Jan</td>\n",
       "      <td>31-40</td>\n",
       "    </tr>\n",
       "    <tr>\n",
       "      <th>1</th>\n",
       "      <td>2</td>\n",
       "      <td>Ana</td>\n",
       "      <td>45</td>\n",
       "      <td>F</td>\n",
       "      <td>72</td>\n",
       "      <td>110.000000</td>\n",
       "      <td>130.0</td>\n",
       "      <td>Jan</td>\n",
       "      <td>41-50</td>\n",
       "    </tr>\n",
       "    <tr>\n",
       "      <th>2</th>\n",
       "      <td>3</td>\n",
       "      <td>Pedro</td>\n",
       "      <td>51</td>\n",
       "      <td>M</td>\n",
       "      <td>90</td>\n",
       "      <td>99.741935</td>\n",
       "      <td>140.0</td>\n",
       "      <td>Fev</td>\n",
       "      <td>51-60</td>\n",
       "    </tr>\n",
       "    <tr>\n",
       "      <th>3</th>\n",
       "      <td>4</td>\n",
       "      <td>Cassio</td>\n",
       "      <td>29</td>\n",
       "      <td>M</td>\n",
       "      <td>60</td>\n",
       "      <td>88.000000</td>\n",
       "      <td>115.0</td>\n",
       "      <td>Fev</td>\n",
       "      <td>Até 30</td>\n",
       "    </tr>\n",
       "    <tr>\n",
       "      <th>4</th>\n",
       "      <td>5</td>\n",
       "      <td>Carlos</td>\n",
       "      <td>63</td>\n",
       "      <td>M</td>\n",
       "      <td>85</td>\n",
       "      <td>99.741935</td>\n",
       "      <td>150.0</td>\n",
       "      <td>Mar</td>\n",
       "      <td>61+</td>\n",
       "    </tr>\n",
       "  </tbody>\n",
       "</table>\n",
       "</div>"
      ]
     },
     "metadata": {},
     "output_type": "display_data",
     "jetTransient": {
      "display_id": null
     }
    }
   ],
   "execution_count": 36
  },
  {
   "metadata": {},
   "cell_type": "markdown",
   "source": "#### 3.3.2. AGRUPANDO MÉDIA DE PRESSÃO ARTERIAL POR MÊS",
   "id": "43d64e5830ca20a8"
  },
  {
   "metadata": {
    "ExecuteTime": {
     "end_time": "2025-10-23T00:33:25.209934Z",
     "start_time": "2025-10-23T00:33:25.187208Z"
    }
   },
   "cell_type": "code",
   "source": [
    "PRESSURE_COLUMN = 'Pressao'\n",
    "OBSERVED = True\n",
    "\n",
    "df_average_pressure_by_month = clean_df.groupby(by=MONTH_COLUMN, observed=OBSERVED)[PRESSURE_COLUMN].mean()\n",
    "display(df_average_pressure_by_month)"
   ],
   "id": "3843b1a4cca10175",
   "outputs": [
    {
     "data": {
      "text/plain": [
       "Mes\n",
       "Jan    126.166667\n",
       "Fev    129.666667\n",
       "Mar    133.000000\n",
       "Abr    129.166667\n",
       "Mai    131.910256\n",
       "Jun    132.320513\n",
       "Jul    128.666667\n",
       "Ago    131.500000\n",
       "Set    133.910256\n",
       "Out    132.833333\n",
       "Nov    124.833333\n",
       "Dez    132.115385\n",
       "Name: Pressao, dtype: float64"
      ]
     },
     "metadata": {},
     "output_type": "display_data",
     "jetTransient": {
      "display_id": null
     }
    }
   ],
   "execution_count": 41
  },
  {
   "metadata": {},
   "cell_type": "markdown",
   "source": "#### 3.3.3. TRAÇANDO GRÁFICO",
   "id": "229cf46ae7e3c603"
  },
  {
   "metadata": {
    "ExecuteTime": {
     "end_time": "2025-10-23T00:36:13.521071Z",
     "start_time": "2025-10-23T00:36:13.513997Z"
    }
   },
   "cell_type": "code",
   "source": [
    "KIND = 'line'\n",
    "FIGSIZE = (8,5)\n",
    "TITLE = 'Evolução Média da Pressão Arterial por Mês'\n",
    "LEGEND = True\n",
    "XLABEL = 'Mês'\n",
    "YLABEL = 'Média da Pressão Arterial (mmHg)'\n",
    "ROTATION = 0 # horizontal\n",
    "MARKER = 'o'\n",
    "\n",
    "ENABLE_GRID = True\n",
    "GRID_LINESTYLE = '--'\n",
    "GRID_ALPHA = 0.6"
   ],
   "id": "a0d4e45348e85d42",
   "outputs": [],
   "execution_count": 45
  },
  {
   "metadata": {
    "ExecuteTime": {
     "end_time": "2025-10-23T00:36:48.941532Z",
     "start_time": "2025-10-23T00:36:48.851845Z"
    }
   },
   "cell_type": "code",
   "source": [
    "ax = df_average_pressure_by_month.plot(\n",
    "    kind=KIND,\n",
    "    figsize=FIGSIZE,\n",
    "    title=TITLE,\n",
    "    xlabel=XLABEL,\n",
    "    ylabel=YLABEL,\n",
    "    rot=ROTATION,\n",
    "    marker=MARKER\n",
    ")\n",
    "\n",
    "tick_locations = range(len(df_average_pressure_by_month.index))\n",
    "month_labels = df_average_pressure_by_month.index\n",
    "\n",
    "ax.set_xticks(tick_locations)\n",
    "ax.set_xticklabels(labels=month_labels, rotation=ROTATION)\n",
    "\n",
    "plt.tight_layout()\n",
    "plt.grid(ENABLE_GRID, linestyle=GRID_LINESTYLE, alpha=GRID_ALPHA)\n",
    "plt.show()"
   ],
   "id": "fdb1c5a93c850353",
   "outputs": [
    {
     "data": {
      "text/plain": [
       "<Figure size 800x500 with 1 Axes>"
      ],
      "image/png": "[encoded data removed]"
     },
     "metadata": {},
     "output_type": "display_data",
     "jetTransient": {
      "display_id": null
     }
    }
   ],
   "execution_count": 49
  }
 ],
 "metadata": {
  "language_info": {
   "name": "python"
  },
  "kernelspec": {
   "name": "python3",
   "language": "python",
   "display_name": "Python 3 (ipykernel)"
  }
 },
 "nbformat": 4,
 "nbformat_minor": 5
}
